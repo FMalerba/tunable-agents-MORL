{
 "cells": [
  {
   "cell_type": "code",
   "execution_count": 1,
   "metadata": {},
   "outputs": [],
   "source": [
    "from tunable_agents import utility, main\n",
    "import utils\n",
    "import gin\n",
    "import numpy as np\n",
    "import os\n",
    "import tensorflow as tf\n",
    "from tensorflow import keras\n",
    "from tf_agents.environments import tf_py_environment\n",
    "from tf_agents.policies import py_tf_eager_policy, random_py_policy\n",
    "from tunable_agents.environments.gathering_env import gathering_env\n",
    "import matplotlib.pyplot as plt\n",
    "from scipy.stats import wasserstein_distance\n",
    "\n",
    "%matplotlib inline\n",
    "gpus = tf.config.experimental.list_physical_devices('GPU')\n",
    "tf.config.experimental.set_memory_growth(gpus[0], True)"
   ]
  },
  {
   "cell_type": "code",
   "execution_count": 2,
   "metadata": {},
   "outputs": [],
   "source": [
    "configs_dir = \"C:/Users/maler/Google Drive/Personale/Università/Master/Tesi/Code/tunable-agents-MORL/configs/\"\n",
    "\n",
    "gin_files = [configs_dir + \"envs/gathering_replication_env.gin\"]\n",
    "#gin_files = [configs_dir + \"envs/gathering_fixed_env.gin\"]\n",
    "gin_bindings = []\n",
    "utility.load_gin_configs(gin_files, gin_bindings)"
   ]
  },
  {
   "cell_type": "code",
   "execution_count": 3,
   "metadata": {},
   "outputs": [
    {
     "name": "stdout",
     "output_type": "stream",
     "text": [
      "(35000,)\n",
      "(32000,)\n",
      "(32000,)\n",
      "(32000,) \n",
      "\n",
      "(35000,)\n",
      "(35000,)\n",
      "(35000,) \n",
      "\n",
      "(25000,)\n",
      "(25000,)\n",
      "(25000,) \n",
      "\n",
      "(35000,)\n",
      "(35000,)\n",
      "(35000,) \n",
      "\n"
     ]
    }
   ],
   "source": [
    "print(np.load(\"results/gathering_replication_1.npy\").shape)\n",
    "print(np.load(\"results/gathering_replication_2.npy\").shape)\n",
    "print(np.load(\"results/gathering_replication_3.npy\").shape)\n",
    "print(np.load(\"results/gathering_replication_4.npy\").shape, \"\\n\")\n",
    "\n",
    "print(np.load(\"results/my_210220.npy\").shape)\n",
    "print(np.load(\"results/my_210221.npy\").shape)\n",
    "print(np.load(\"results/my_210221_2.npy\").shape, \"\\n\")\n",
    "\n",
    "print(np.load(\"results/david_200221.npy\").shape)\n",
    "print(np.load(\"results/david_210221.npy\").shape)\n",
    "print(np.load(\"results/david_210221_2.npy\").shape, \"\\n\")\n",
    "\n",
    "print(np.load(\"results/new_gath_repl_1.npy\").shape)\n",
    "print(np.load(\"results/new_gath_repl_2.npy\").shape)\n",
    "print(np.load(\"results/new_gath_repl_3.npy\").shape, \"\\n\")"
   ]
  },
  {
   "cell_type": "markdown",
   "metadata": {},
   "source": [
    "# TF-Agents Policy"
   ]
  },
  {
   "cell_type": "code",
   "execution_count": null,
   "metadata": {},
   "outputs": [],
   "source": [
    "absolute_path = \"C:/Users/maler/Federico/Università/Master/Tesi\"\n",
    "root_dir = absolute_path + \"/experiments_results\"\n",
    "experiment_name = \"gathering_replication_4\"\n",
    "results_file_path = \"./results/\" + experiment_name + \".npy\"\n",
    "\n",
    "#root_dir = os.path.expanduser(root_dir)\n",
    "#experiment_dir = os.path.join(root_dir, gin.query_parameter('train_eval.experiment_name'))\n",
    "\n",
    "policy_dir = os.path.join(root_dir, experiment_name, \"policy\")"
   ]
  },
  {
   "cell_type": "code",
   "execution_count": null,
   "metadata": {},
   "outputs": [],
   "source": [
    "env = gathering_env.GatheringWrapper(utility_repr=np.array([1,2,3,4,5,6], dtype=np.float32))\n",
    "env = gathering_env.GatheringWrapper()\n",
    "#env = gathering_env.GatheringWrapper(cumulative_rewards_flag=True)\n",
    "#tf_env = tf_py_environment.TFPyEnvironment(env)\n",
    "\n",
    "#saved_policy = tf.compat.v2.saved_model.load(policy_dir)\n",
    "eager_py_policy = py_tf_eager_policy.SavedModelPyTFEagerPolicy(\n",
    "    policy_dir, env.time_step_spec(), env.action_spec())\n",
    "\n",
    "random_policy = random_py_policy.RandomPyPolicy(time_step_spec=None,\n",
    "    action_spec=env.action_spec())\n"
   ]
  },
  {
   "cell_type": "code",
   "execution_count": null,
   "metadata": {},
   "outputs": [],
   "source": [
    "utils.policy_play_episode(env, eager_py_policy)"
   ]
  },
  {
   "cell_type": "code",
   "execution_count": null,
   "metadata": {},
   "outputs": [],
   "source": [
    "print(env._utility_repr)\n",
    "print(env._prev_step_utility)"
   ]
  },
  {
   "cell_type": "code",
   "execution_count": null,
   "metadata": {},
   "outputs": [],
   "source": [
    "results = utils.policy_evaluate_utility(env, eager_py_policy, 8000)\n",
    "\n",
    "if os.path.exists(results_file_path):\n",
    "    results = np.append(np.load(results_file_path), results)\n",
    "\n",
    "np.save(results_file_path, results)\n",
    "plt.hist(results, bins=200, density=True)\n",
    "plt.show()"
   ]
  },
  {
   "cell_type": "code",
   "execution_count": null,
   "metadata": {},
   "outputs": [],
   "source": [
    "for layer in eager_py_policy._policy.model_variables:\n",
    "    print(layer.shape)"
   ]
  },
  {
   "cell_type": "markdown",
   "metadata": {},
   "source": [
    "# David's Saved Model"
   ]
  },
  {
   "cell_type": "code",
   "execution_count": null,
   "metadata": {},
   "outputs": [],
   "source": [
    "root_path = \"C:/Users/maler/Google Drive/Personale/Università/Master/Tesi/Code/models/\"\n",
    "david_root_path = \"C:/Users/maler/Federico/Università/Master/Tesi/david_code/tunable-agents/tunable_gathering/models/\"\n",
    "new_root_path = \"C:/Users/maler/Google Drive/Personale/Università/Master/Tesi/Code/experiments_results/\"\n",
    "experiment = \"dqn_model_tunable_200221.h5\"\n",
    "experiment = \"gathering_replication_3/model/dqn_model.h5\"\n",
    "results_file_path = \"./results/new_gath_repl_3.npy\"\n",
    "\n",
    "env = gathering_env.GatheringWrapper()\n",
    "\n",
    "model = keras.models.load_model(os.path.join(new_root_path, experiment))"
   ]
  },
  {
   "cell_type": "code",
   "execution_count": null,
   "metadata": {},
   "outputs": [],
   "source": [
    "utils.model_play_episode(env, model)"
   ]
  },
  {
   "cell_type": "code",
   "execution_count": null,
   "metadata": {},
   "outputs": [],
   "source": [
    "print(env._utility_repr)\n",
    "print(env._prev_step_utility)"
   ]
  },
  {
   "cell_type": "markdown",
   "metadata": {},
   "source": [
    "## Evaluation"
   ]
  },
  {
   "cell_type": "code",
   "execution_count": null,
   "metadata": {},
   "outputs": [],
   "source": [
    "results = utils.model_evaluate_utility(env, model, 5000)\n",
    "\n",
    "if os.path.exists(results_file_path):\n",
    "    results = np.append(np.load(results_file_path), results)\n",
    "\n",
    "np.save(results_file_path, results)\n",
    "plt.hist(results, bins=200, density=True)\n",
    "plt.show()"
   ]
  },
  {
   "cell_type": "code",
   "execution_count": null,
   "metadata": {},
   "outputs": [],
   "source": [
    "root_path = \"C:/Users/maler/Google Drive/Personale/Università/Master/Tesi/Code/models/\"\n",
    "david_root_path = \"C:/Users/maler/Federico/Università/Master/Tesi/david_code/tunable-agents/tunable_gathering/models/\"\n",
    "experiment = \"dqn_model_tunable_210221.h5\"\n",
    "results_file_path = \"./results/david_210221.npy\"\n",
    "\n",
    "env = gathering_env.GatheringWrapper()\n",
    "\n",
    "model = keras.models.load_model(os.path.join(david_root_path, experiment))"
   ]
  },
  {
   "cell_type": "code",
   "execution_count": null,
   "metadata": {},
   "outputs": [],
   "source": [
    "results = utils.model_evaluate_utility(env, model, 5000)\n",
    "\n",
    "if os.path.exists(results_file_path):\n",
    "    results = np.append(np.load(results_file_path), results)\n",
    "\n",
    "np.save(results_file_path, results)\n",
    "plt.hist(results, bins=200, density=True)\n",
    "plt.show()"
   ]
  },
  {
   "cell_type": "code",
   "execution_count": null,
   "metadata": {},
   "outputs": [],
   "source": [
    "root_path = \"C:/Users/maler/Google Drive/Personale/Università/Master/Tesi/Code/models/\"\n",
    "david_root_path = \"C:/Users/maler/Federico/Università/Master/Tesi/david_code/tunable-agents/tunable_gathering/models/\"\n",
    "experiment = \"dqn_model_tunable_210221_2.h5\"\n",
    "results_file_path = \"./results/david_210221_2.npy\"\n",
    "\n",
    "env = gathering_env.GatheringWrapper()\n",
    "\n",
    "model = keras.models.load_model(os.path.join(david_root_path, experiment))"
   ]
  },
  {
   "cell_type": "code",
   "execution_count": null,
   "metadata": {},
   "outputs": [],
   "source": [
    "results = utils.model_evaluate_utility(env, model, 5000)\n",
    "\n",
    "if os.path.exists(results_file_path):\n",
    "    results = np.append(np.load(results_file_path), results)\n",
    "\n",
    "np.save(results_file_path, results)\n",
    "plt.hist(results, bins=200, density=True)\n",
    "plt.show()"
   ]
  },
  {
   "cell_type": "code",
   "execution_count": 4,
   "metadata": {},
   "outputs": [
    {
     "data": {
      "image/png": "[encoded data removed]",
      "text/plain": [
       "<Figure size 1080x864 with 9 Axes>"
      ]
     },
     "metadata": {
      "needs_background": "light"
     },
     "output_type": "display_data"
    }
   ],
   "source": [
    "results_files = {\"david\": [\"david_200221.npy\", \"david_210221.npy\", \"david_210221_2.npy\"],\n",
    "                 \"my_env\": [\"my_210220.npy\", \"my_210221.npy\", \"my_210221_2.npy\"],\n",
    "                 \"new\": [\"new_gath_repl_1.npy\", \"new_gath_repl_2.npy\", \"new_gath_repl_3.npy\"],\n",
    "                 \"tfa\": [\"gathering_replication_1.npy\", \"gathering_replication_2.npy\", \"gathering_replication_3.npy\",\n",
    "                         \"gathering_replication_4.npy\"]\n",
    "                 }\n",
    "\n",
    "keys = sorted(results_files.keys())\n",
    "results = dict()\n",
    "for key in keys:\n",
    "    results[key] = [np.load(\"results/\" + file) for file in results_files[key]]\n",
    "\n",
    "if True:\n",
    "    for key in keys:\n",
    "        results[key] = [result[result != -1] for result in results[key]]\n",
    "\n",
    "plt.figure(figsize=(15, 12))\n",
    "i = 1\n",
    "for result in results[\"my_env\"] + results[\"david\"] + results[\"tfa\"][:-1]:\n",
    "    plt.subplot(3, 3, i)\n",
    "    plt.title(f\"Number of sampled episodes: {result.shape[0]}\")\n",
    "    plt.hist(result, bins=200, density=True)\n",
    "    i += 1\n",
    "\n",
    "plt.tight_layout()\n",
    "plt.show()"
   ]
  },
  {
   "cell_type": "code",
   "execution_count": 5,
   "metadata": {},
   "outputs": [
    {
     "name": "stdout",
     "output_type": "stream",
     "text": [
      "David's agents mean WD: 1.106189494518793\n",
      "My agents mean WD: 1.7335248461502317\n",
      "New agents mean WD: 2.4261434231800423\n",
      "TFA mean WD: 4.5276854318525475\n",
      "David-My agents mean WD: 1.360441297850109\n",
      "David-TFA agents mean WD: 10.101092138984713\n",
      "My-TFA agents mean WD: 10.570074489234102\n",
      "David-New agents mean WD: 1.4995507104621322\n"
     ]
    }
   ],
   "source": [
    "intra_wds = dict()\n",
    "for key in keys:\n",
    "    intra_wds[key] = [wasserstein_distance(results[key][i], results[key][j])\n",
    "                      for i in range(len(results[key])) for j in range(i+1, len(results[key]))]\n",
    "\n",
    "inter_wds = dict()\n",
    "for i in range(len(keys)):\n",
    "    for j in range(i, len(keys)):\n",
    "        key_1, key_2 = keys[i], keys[j]\n",
    "        inter_wds[key_1 + \"-\" + key_2] = [wasserstein_distance(result_1, result_2)\n",
    "                                          for result_1 in results[key_1] for result_2 in results[key_2]]\n",
    "\n",
    "\n",
    "print(\"David's agents mean WD:\", np.mean(intra_wds[\"david\"]))\n",
    "print(\"My agents mean WD:\", np.mean(intra_wds[\"my_env\"]))\n",
    "print(\"New agents mean WD:\", np.mean(intra_wds[\"new\"]))\n",
    "print(\"TFA mean WD:\", np.mean(intra_wds[\"tfa\"]))\n",
    "\n",
    "print(\"David-My agents mean WD:\", np.mean(inter_wds[\"david-my_env\"]))\n",
    "print(\"David-TFA agents mean WD:\", np.mean(inter_wds[\"david-tfa\"]))\n",
    "print(\"My-TFA agents mean WD:\", np.mean(inter_wds[\"my_env-tfa\"]))\n",
    "print(\"David-New agents mean WD:\", np.mean(inter_wds[\"david-new\"]))"
   ]
  },
  {
   "cell_type": "code",
   "execution_count": 6,
   "metadata": {},
   "outputs": [
    {
     "name": "stdout",
     "output_type": "stream",
     "text": [
      "david [14.164673, 12.903974, 12.833268]\n",
      "my_env [12.339485, 14.83121, 13.910162]\n",
      "new [13.830037, 14.39904, 11.045087]\n",
      "tfa [-0.8267841, 2.2941518, 4.842429, 6.4895797]\n"
     ]
    }
   ],
   "source": [
    "for key in keys:\n",
    "    print(key, [np.mean(result) for result in results[key]])"
   ]
  },
  {
   "cell_type": "code",
   "execution_count": null,
   "metadata": {},
   "outputs": [],
   "source": []
  }
 ],
 "metadata": {
  "kernelspec": {
   "display_name": "master_thesis",
   "language": "python",
   "name": "master_thesis"
  },
  "language_info": {
   "codemirror_mode": {
    "name": "ipython",
    "version": 3
   },
   "file_extension": ".py",
   "mimetype": "text/x-python",
   "name": "python",
   "nbconvert_exporter": "python",
   "pygments_lexer": "ipython3",
   "version": "3.8.7"
  }
 },
 "nbformat": 4,
 "nbformat_minor": 2
}
