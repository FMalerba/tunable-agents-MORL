{
 "cells": [
  {
   "cell_type": "code",
   "execution_count": null,
   "metadata": {},
   "outputs": [],
   "source": [
    "from tunable_agents import utility, agent\n",
    "import utils\n",
    "import gin\n",
    "import numpy as np\n",
    "import os\n",
    "import tensorflow as tf\n",
    "from tensorflow import keras\n",
    "from tunable_agents.environments.gathering_env import gathering_env\n",
    "import matplotlib.pyplot as plt\n",
    "from scipy.stats import wasserstein_distance\n",
    "\n",
    "%matplotlib inline\n",
    "#gpus = tf.config.experimental.list_physical_devices('GPU')\n",
    "#tf.config.experimental.set_memory_growth(gpus[0], True)"
   ]
  },
  {
   "cell_type": "code",
   "execution_count": null,
   "metadata": {},
   "outputs": [],
   "source": [
    "configs_dir = \"C:/Users/maler/Google Drive/Personale/Università/Master/Tesi/Code/tunable-agents-MORL/configs/\"\n",
    "\n",
    "gin_files = [configs_dir + \"envs/replication_env.gin\", configs_dir + \"qnets/128_128_64_model.gin\"]\n",
    "gin_files = [configs_dir + \"envs/cumulative_rewards_env.gin\", configs_dir + \"qnets/128_128_64_model.gin\"]\n",
    "#gin_files = [configs_dir + \"envs/gathering_fixed_env.gin\"]\n",
    "gin_bindings = []\n",
    "utility.load_gin_configs(gin_files, gin_bindings)"
   ]
  },
  {
   "cell_type": "code",
   "execution_count": null,
   "metadata": {},
   "outputs": [],
   "source": [
    "root_path = \"C:/Users/maler/Google Drive/Personale/Università/Master/Tesi/Code/experiments_results/\"\n",
    "experiment = \"64_64_model-cum_rewards_env-replication-1\"\n",
    "results_file_path = \"./results/\" + experiment + \".npy\"\n",
    "\n",
    "experiment_dir = os.path.join(root_path, experiment)\n",
    "model_dir = os.path.join(experiment_dir, 'model')\n",
    "model_path = os.path.join(model_dir, 'dqn_model.h5')\n",
    "\n",
    "\n",
    "env = utility.create_environment()\n",
    "tf_agent = agent.DQNAgent(epsilon=0,\n",
    "                            obs_spec=env.observation_spec())\n",
    "\n",
    "tf_agent.load_model(model_path)"
   ]
  },
  {
   "cell_type": "code",
   "execution_count": null,
   "metadata": {},
   "outputs": [],
   "source": [
    "tf_agent._model.summary()"
   ]
  },
  {
   "cell_type": "code",
   "execution_count": null,
   "metadata": {},
   "outputs": [],
   "source": [
    "utils.model_play_episode(env, model)"
   ]
  },
  {
   "cell_type": "code",
   "execution_count": null,
   "metadata": {},
   "outputs": [],
   "source": [
    "print(env._utility_repr)\n",
    "print(env._prev_step_utility)"
   ]
  }
 ],
 "metadata": {
  "kernelspec": {
   "display_name": "master_thesis",
   "language": "python",
   "name": "master_thesis"
  },
  "language_info": {
   "codemirror_mode": {
    "name": "ipython",
    "version": 3
   },
   "file_extension": ".py",
   "mimetype": "text/x-python",
   "name": "python",
   "nbconvert_exporter": "python",
   "pygments_lexer": "ipython3",
   "version": "3.8.7-final"
  }
 },
 "nbformat": 4,
 "nbformat_minor": 2
}