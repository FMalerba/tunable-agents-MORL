{
 "metadata": {
  "language_info": {
   "codemirror_mode": {
    "name": "ipython",
    "version": 3
   },
   "file_extension": ".py",
   "mimetype": "text/x-python",
   "name": "python",
   "nbconvert_exporter": "python",
   "pygments_lexer": "ipython3",
   "version": 3
  },
  "orig_nbformat": 2
 },
 "nbformat": 4,
 "nbformat_minor": 2,
 "cells": [
  {
   "cell_type": "code",
   "execution_count": null,
   "metadata": {},
   "outputs": [],
   "source": [
    "from tunable_agents import utility, main\n",
    "import utils\n",
    "import gin\n",
    "import numpy as np\n",
    "import tensorflow as tf\n",
    "from tf_agents.environments import tf_py_environment\n",
    "from tf_agents.policies import py_tf_eager_policy\n",
    "from tunable_agents.environments.gathering_env import gathering_env\n",
    "import matplotlib.pyplot as plt\n",
    "\n",
    "%matplotlib inline\n",
    "gpus = tf.config.experimental.list_physical_devices('GPU')\n",
    "tf.config.experimental.set_memory_growth(gpus[0], True)"
   ]
  },
  {
   "cell_type": "code",
   "execution_count": null,
   "metadata": {},
   "outputs": [],
   "source": [
    "absolute_path = \"C:/Users/maler/Federico/Università/Master/Tesi\"\n",
    "configs_dir = \"C:/Users/maler/Google Drive/Personale/Università/Master/Tesi/Code/tunable-agents-MORL/configs/\"\n",
    "root_dir = absolute_path + \"/experiments_results\"\n",
    "experiment_name = \"gathering_longer_epochs\"\n",
    "policy_dir = os.path.join(root_dir, experiment_name, \"policy\")\n",
    "\n",
    "gin_files = [configs_dir + \"envs/gathering_replication_env.gin\"]\n",
    "gin_files = [configs_dir + \"envs/gathering_fixed_env.gin\"]\n",
    "gin_bindings = []\n",
    "utility.load_gin_configs(gin_files, gin_bindings)"
   ]
  },
  {
   "cell_type": "code",
   "execution_count": null,
   "metadata": {},
   "outputs": [],
   "source": [
    "env = gathering_env.GatheringWrapper(utility_repr=np.array([1,5,3,4,5,6], dtype=np.float32))\n",
    "env = gathering_env.GatheringWrapper()\n",
    "#env = gathering_env.GatheringWrapper(cumulative_rewards_flag=True)\n",
    "\n",
    "eager_py_policy = py_tf_eager_policy.SavedModelPyTFEagerPolicy(\n",
    "    policy_dir, env.time_step_spec(), env.action_spec())"
   ]
  },
  {
   "cell_type": "code",
   "execution_count": null,
   "metadata": {},
   "outputs": [],
   "source": [
    "time_step = env.reset()\n",
    "action = None"
   ]
  },
  {
   "cell_type": "code",
   "execution_count": null,
   "metadata": {},
   "outputs": [],
   "source": [
    "plt.figure(figsize=(7,7), dpi=150)\n",
    "image = time_step.observation['state_obs'][:, :, -3:]\n",
    "plt.imshow(image)\n",
    "plt.title('Utility: {}    Action: {}'.format(time_step.reward, action), fontsize=5)\n",
    "plt.axis('off')\n",
    "plt.show()"
   ]
  },
  {
   "cell_type": "code",
   "execution_count": null,
   "metadata": {},
   "outputs": [],
   "source": [
    "# 0: Do nothing\n",
    "# 1: Do nothing\n",
    "# 2: Do nothing\n",
    "# 3: Do nothing\n",
    "# 4: Do nothing\n",
    "action = \n",
    "\n",
    "time_step = tf_env.step(action)"
   ]
  }
 ]
}