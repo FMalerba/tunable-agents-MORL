{
 "cells": [
  {
   "cell_type": "code",
   "execution_count": 1,
   "metadata": {},
   "outputs": [],
   "source": [
    "import utils\n",
    "import numpy as np\n",
    "import os\n",
    "import pandas as pd\n",
    "import matplotlib.pyplot as plt\n",
    "\n",
    "pd.set_option('display.expand_frame_repr', False)\n",
    "\n",
    "%matplotlib inline"
   ]
  },
  {
   "cell_type": "markdown",
   "metadata": {},
   "source": [
    "# Scalar Utilities"
   ]
  },
  {
   "cell_type": "code",
   "execution_count": 2,
   "metadata": {},
   "outputs": [],
   "source": [
    "path = \"C:/Users/maler/Federico/Università/Master/Tesi/evaluation_results/utility_results/\"\n",
    "\n",
    "utility_results = utils.load_results(path)\n",
    "keys = sorted(utility_results.keys(), key=utils.sorting)\n",
    "utilities_table = utils.utilities_table(utility_results)"
   ]
  },
  {
   "cell_type": "code",
   "execution_count": 4,
   "metadata": {},
   "outputs": [
    {
     "output_type": "execute_result",
     "data": {
      "text/plain": [
       "Setting                              Linear Cumulative Rewards Linear   Dense Linear Cumulative Rewards Dense Linear Continuous Linear Cumulative Rewards Continuous Linear         Target Cumulative Rewards Target      Threshold Cumulative Rewards Threshold Dense Threshold Cumulative Rewards Dense Threshold Continuous Threshold Cumulative Rewards Continuous Threshold Linear as Threshold Cumulative Rewards Linear as Threshold Dense Linear as Threshold Cumulative Rewards Dense Linear as Threshold Continuous Linear as Threshold Cumulative Rewards Continuous Linear as Threshold\n",
       "Model                                                                                                                                                                                                                                                                                                                                                                                                                                                                                                                                                                                              \n",
       "64_64_model                   1.17 (+-0.16)             1.21 (+-0.19)  1.28 (+-0.18)                   1.17 (+-0.18)     1.16 (+-0.15)                        1.13 (+-0.17)  1.57 (+-0.22)             0.84 (+-0.14)  4.21 (+-0.69)                1.85 (+-0.32)   4.32 (+-0.74)                      1.79 (+-0.34)        4.34 (+-0.74)                           1.73 (+-0.32)       3.17 (+-0.42)                          1.61 (+-0.33)             3.17 (+-0.43)                                1.42 (+-0.31)                  3.28 (+-0.46)                                     1.49 (+-0.27)\n",
       "128_128_64_model              0.71 (+-0.06)             0.93 (+-0.14)  0.69 (+-0.08)                   0.85 (+-0.12)     0.65 (+-0.08)                        0.86 (+-0.12)  1.36 (+-0.26)              1.15 (+-0.2)  1.96 (+-0.36)                1.33 (+-0.17)    2.01 (+-0.4)                      1.33 (+-0.18)        1.94 (+-0.41)                           1.34 (+-0.18)       1.44 (+-0.19)                          1.54 (+-0.19)              1.51 (+-0.2)                                1.45 (+-0.18)                  1.68 (+-0.23)                                      1.57 (+-0.2)\n",
       "256_128_128_64_64_model       0.95 (+-0.12)              0.9 (+-0.11)  0.89 (+-0.12)                   0.81 (+-0.09)     0.97 (+-0.13)                        0.72 (+-0.08)  1.36 (+-0.18)              1.2 (+-0.17)  1.55 (+-0.27)                2.17 (+-0.28)   1.41 (+-0.21)                      2.05 (+-0.29)         1.32 (+-0.2)                           1.92 (+-0.24)       1.97 (+-0.42)                           1.59 (+-0.2)             1.73 (+-0.33)                                1.39 (+-0.15)                  1.58 (+-0.31)                                     1.46 (+-0.15)\n",
       "512_256_256_128_128_64_model  0.43 (+-0.03)             0.73 (+-0.08)  0.36 (+-0.02)                   0.62 (+-0.08)     0.52 (+-0.03)                        0.57 (+-0.07)  3.08 (+-0.48)              6.8 (+-1.24)   1.3 (+-0.15)                2.14 (+-0.27)    1.2 (+-0.14)                       2.25 (+-0.3)        1.25 (+-0.15)                           2.21 (+-0.31)        2.7 (+-0.33)                          2.74 (+-0.51)             2.45 (+-0.26)                                2.72 (+-0.51)                   2.4 (+-0.26)                                     2.66 (+-0.51)"
      ],
      "text/html": "<div>\n<style scoped>\n    .dataframe tbody tr th:only-of-type {\n        vertical-align: middle;\n    }\n\n    .dataframe tbody tr th {\n        vertical-align: top;\n    }\n\n    .dataframe thead th {\n        text-align: right;\n    }\n</style>\n<table border=\"1\" class=\"dataframe\">\n  <thead>\n    <tr style=\"text-align: right;\">\n      <th>Setting</th>\n      <th>Linear</th>\n      <th>Cumulative Rewards Linear</th>\n      <th>Dense Linear</th>\n      <th>Cumulative Rewards Dense Linear</th>\n      <th>Continuous Linear</th>\n      <th>Cumulative Rewards Continuous Linear</th>\n      <th>Target</th>\n      <th>Cumulative Rewards Target</th>\n      <th>Threshold</th>\n      <th>Cumulative Rewards Threshold</th>\n      <th>Dense Threshold</th>\n      <th>Cumulative Rewards Dense Threshold</th>\n      <th>Continuous Threshold</th>\n      <th>Cumulative Rewards Continuous Threshold</th>\n      <th>Linear as Threshold</th>\n      <th>Cumulative Rewards Linear as Threshold</th>\n      <th>Dense Linear as Threshold</th>\n      <th>Cumulative Rewards Dense Linear as Threshold</th>\n      <th>Continuous Linear as Threshold</th>\n      <th>Cumulative Rewards Continuous Linear as Threshold</th>\n    </tr>\n    <tr>\n      <th>Model</th>\n      <th></th>\n      <th></th>\n      <th></th>\n      <th></th>\n      <th></th>\n      <th></th>\n      <th></th>\n      <th></th>\n      <th></th>\n      <th></th>\n      <th></th>\n      <th></th>\n      <th></th>\n      <th></th>\n      <th></th>\n      <th></th>\n      <th></th>\n      <th></th>\n      <th></th>\n      <th></th>\n    </tr>\n  </thead>\n  <tbody>\n    <tr>\n      <th>64_64_model</th>\n      <td>1.17 (+-0.16)</td>\n      <td>1.21 (+-0.19)</td>\n      <td>1.28 (+-0.18)</td>\n      <td>1.17 (+-0.18)</td>\n      <td>1.16 (+-0.15)</td>\n      <td>1.13 (+-0.17)</td>\n      <td>1.57 (+-0.22)</td>\n      <td>0.84 (+-0.14)</td>\n      <td>4.21 (+-0.69)</td>\n      <td>1.85 (+-0.32)</td>\n      <td>4.32 (+-0.74)</td>\n      <td>1.79 (+-0.34)</td>\n      <td>4.34 (+-0.74)</td>\n      <td>1.73 (+-0.32)</td>\n      <td>3.17 (+-0.42)</td>\n      <td>1.61 (+-0.33)</td>\n      <td>3.17 (+-0.43)</td>\n      <td>1.42 (+-0.31)</td>\n      <td>3.28 (+-0.46)</td>\n      <td>1.49 (+-0.27)</td>\n    </tr>\n    <tr>\n      <th>128_128_64_model</th>\n      <td>0.71 (+-0.06)</td>\n      <td>0.93 (+-0.14)</td>\n      <td>0.69 (+-0.08)</td>\n      <td>0.85 (+-0.12)</td>\n      <td>0.65 (+-0.08)</td>\n      <td>0.86 (+-0.12)</td>\n      <td>1.36 (+-0.26)</td>\n      <td>1.15 (+-0.2)</td>\n      <td>1.96 (+-0.36)</td>\n      <td>1.33 (+-0.17)</td>\n      <td>2.01 (+-0.4)</td>\n      <td>1.33 (+-0.18)</td>\n      <td>1.94 (+-0.41)</td>\n      <td>1.34 (+-0.18)</td>\n      <td>1.44 (+-0.19)</td>\n      <td>1.54 (+-0.19)</td>\n      <td>1.51 (+-0.2)</td>\n      <td>1.45 (+-0.18)</td>\n      <td>1.68 (+-0.23)</td>\n      <td>1.57 (+-0.2)</td>\n    </tr>\n    <tr>\n      <th>256_128_128_64_64_model</th>\n      <td>0.95 (+-0.12)</td>\n      <td>0.9 (+-0.11)</td>\n      <td>0.89 (+-0.12)</td>\n      <td>0.81 (+-0.09)</td>\n      <td>0.97 (+-0.13)</td>\n      <td>0.72 (+-0.08)</td>\n      <td>1.36 (+-0.18)</td>\n      <td>1.2 (+-0.17)</td>\n      <td>1.55 (+-0.27)</td>\n      <td>2.17 (+-0.28)</td>\n      <td>1.41 (+-0.21)</td>\n      <td>2.05 (+-0.29)</td>\n      <td>1.32 (+-0.2)</td>\n      <td>1.92 (+-0.24)</td>\n      <td>1.97 (+-0.42)</td>\n      <td>1.59 (+-0.2)</td>\n      <td>1.73 (+-0.33)</td>\n      <td>1.39 (+-0.15)</td>\n      <td>1.58 (+-0.31)</td>\n      <td>1.46 (+-0.15)</td>\n    </tr>\n    <tr>\n      <th>512_256_256_128_128_64_model</th>\n      <td>0.43 (+-0.03)</td>\n      <td>0.73 (+-0.08)</td>\n      <td>0.36 (+-0.02)</td>\n      <td>0.62 (+-0.08)</td>\n      <td>0.52 (+-0.03)</td>\n      <td>0.57 (+-0.07)</td>\n      <td>3.08 (+-0.48)</td>\n      <td>6.8 (+-1.24)</td>\n      <td>1.3 (+-0.15)</td>\n      <td>2.14 (+-0.27)</td>\n      <td>1.2 (+-0.14)</td>\n      <td>2.25 (+-0.3)</td>\n      <td>1.25 (+-0.15)</td>\n      <td>2.21 (+-0.31)</td>\n      <td>2.7 (+-0.33)</td>\n      <td>2.74 (+-0.51)</td>\n      <td>2.45 (+-0.26)</td>\n      <td>2.72 (+-0.51)</td>\n      <td>2.4 (+-0.26)</td>\n      <td>2.66 (+-0.51)</td>\n    </tr>\n  </tbody>\n</table>\n</div>"
     },
     "metadata": {},
     "execution_count": 4
    }
   ],
   "source": [
    "intra_wds_table, inter_wds_table = utils.wds_tables(utility_results)\n",
    "intra_wds_table.pivot(index=\"Model\", columns=\"Setting\", values=\"WD\").head()"
   ]
  },
  {
   "cell_type": "code",
   "execution_count": 5,
   "metadata": {},
   "outputs": [
    {
     "output_type": "execute_result",
     "data": {
      "text/plain": [
       "Setting                                                    Linear Cumulative Rewards Linear   Dense Linear Cumulative Rewards Dense Linear Continuous Linear Cumulative Rewards Continuous Linear         Target Cumulative Rewards Target      Threshold Cumulative Rewards Threshold Dense Threshold Cumulative Rewards Dense Threshold Continuous Threshold Cumulative Rewards Continuous Threshold Linear as Threshold Cumulative Rewards Linear as Threshold Dense Linear as Threshold Cumulative Rewards Dense Linear as Threshold Continuous Linear as Threshold Cumulative Rewards Continuous Linear as Threshold\n",
       "Models                                                                                                                                                                                                                                                                                                                                                                                                                                                                                                                                                                                                                   \n",
       "128_128_64_model-256_128_128_64_64_model            5.11 (+-0.13)             3.62 (+-0.15)  4.54 (+-0.13)                    3.4 (+-0.13)     4.48 (+-0.13)                        3.26 (+-0.12)   1.6 (+-0.16)             1.62 (+-0.16)   2.2 (+-0.24)                1.77 (+-0.17)   2.07 (+-0.25)                      1.72 (+-0.17)        1.98 (+-0.25)                           1.59 (+-0.16)       2.26 (+-0.15)                          1.71 (+-0.16)             2.03 (+-0.16)                                1.53 (+-0.15)                  2.01 (+-0.17)                                     1.56 (+-0.15)\n",
       "128_128_64_model-512_256_256_128_128_64_model       8.54 (+-0.08)             5.83 (+-0.13)  7.09 (+-0.07)                   4.61 (+-0.12)     6.94 (+-0.08)                        4.56 (+-0.12)  3.87 (+-0.39)             11.86 (+-0.9)  3.47 (+-0.27)                2.49 (+-0.16)   2.31 (+-0.28)                      1.83 (+-0.15)        2.39 (+-0.28)                           1.82 (+-0.15)       3.99 (+-0.25)                          3.41 (+-0.19)              3.0 (+-0.21)                                2.64 (+-0.17)                  3.03 (+-0.22)                                     2.64 (+-0.18)\n",
       "256_128_128_64_64_model-512_256_256_128_128_64_...  3.46 (+-0.11)             2.35 (+-0.11)  2.56 (+-0.11)                    1.32 (+-0.1)     2.48 (+-0.12)                         1.4 (+-0.09)  2.87 (+-0.36)             10.49 (+-0.9)  2.06 (+-0.19)                2.29 (+-0.17)   1.38 (+-0.12)                      1.91 (+-0.19)        1.41 (+-0.12)                           1.85 (+-0.18)       3.16 (+-0.26)                          2.77 (+-0.17)             2.38 (+-0.21)                                 2.12 (+-0.2)                   2.38 (+-0.2)                                      2.13 (+-0.2)\n",
       "64_64_model-128_128_64_model                         3.0 (+-0.15)             3.15 (+-0.19)  2.86 (+-0.17)                   2.97 (+-0.17)      2.8 (+-0.15)                        2.78 (+-0.17)  1.29 (+-0.15)             0.98 (+-0.13)  4.99 (+-0.54)                 1.56 (+-0.2)   4.96 (+-0.56)                       1.56 (+-0.2)         4.8 (+-0.56)                            1.51 (+-0.2)       3.24 (+-0.35)                          1.52 (+-0.18)             2.97 (+-0.35)                                1.38 (+-0.16)                  2.89 (+-0.35)                                     1.41 (+-0.15)\n",
       "64_64_model-256_128_128_64_64_model                 8.08 (+-0.18)             6.75 (+-0.18)  7.39 (+-0.19)                   6.35 (+-0.17)     7.26 (+-0.18)                        6.01 (+-0.16)  1.61 (+-0.18)             2.03 (+-0.16)  6.59 (+-0.55)                2.36 (+-0.25)   6.42 (+-0.56)                      2.31 (+-0.25)        6.19 (+-0.56)                            2.1 (+-0.24)       4.73 (+-0.36)                          2.06 (+-0.22)             4.27 (+-0.36)                                 1.75 (+-0.2)                  4.01 (+-0.37)                                     1.69 (+-0.19)"
      ],
      "text/html": "<div>\n<style scoped>\n    .dataframe tbody tr th:only-of-type {\n        vertical-align: middle;\n    }\n\n    .dataframe tbody tr th {\n        vertical-align: top;\n    }\n\n    .dataframe thead th {\n        text-align: right;\n    }\n</style>\n<table border=\"1\" class=\"dataframe\">\n  <thead>\n    <tr style=\"text-align: right;\">\n      <th>Setting</th>\n      <th>Linear</th>\n      <th>Cumulative Rewards Linear</th>\n      <th>Dense Linear</th>\n      <th>Cumulative Rewards Dense Linear</th>\n      <th>Continuous Linear</th>\n      <th>Cumulative Rewards Continuous Linear</th>\n      <th>Target</th>\n      <th>Cumulative Rewards Target</th>\n      <th>Threshold</th>\n      <th>Cumulative Rewards Threshold</th>\n      <th>Dense Threshold</th>\n      <th>Cumulative Rewards Dense Threshold</th>\n      <th>Continuous Threshold</th>\n      <th>Cumulative Rewards Continuous Threshold</th>\n      <th>Linear as Threshold</th>\n      <th>Cumulative Rewards Linear as Threshold</th>\n      <th>Dense Linear as Threshold</th>\n      <th>Cumulative Rewards Dense Linear as Threshold</th>\n      <th>Continuous Linear as Threshold</th>\n      <th>Cumulative Rewards Continuous Linear as Threshold</th>\n    </tr>\n    <tr>\n      <th>Models</th>\n      <th></th>\n      <th></th>\n      <th></th>\n      <th></th>\n      <th></th>\n      <th></th>\n      <th></th>\n      <th></th>\n      <th></th>\n      <th></th>\n      <th></th>\n      <th></th>\n      <th></th>\n      <th></th>\n      <th></th>\n      <th></th>\n      <th></th>\n      <th></th>\n      <th></th>\n      <th></th>\n    </tr>\n  </thead>\n  <tbody>\n    <tr>\n      <th>128_128_64_model-256_128_128_64_64_model</th>\n      <td>5.11 (+-0.13)</td>\n      <td>3.62 (+-0.15)</td>\n      <td>4.54 (+-0.13)</td>\n      <td>3.4 (+-0.13)</td>\n      <td>4.48 (+-0.13)</td>\n      <td>3.26 (+-0.12)</td>\n      <td>1.6 (+-0.16)</td>\n      <td>1.62 (+-0.16)</td>\n      <td>2.2 (+-0.24)</td>\n      <td>1.77 (+-0.17)</td>\n      <td>2.07 (+-0.25)</td>\n      <td>1.72 (+-0.17)</td>\n      <td>1.98 (+-0.25)</td>\n      <td>1.59 (+-0.16)</td>\n      <td>2.26 (+-0.15)</td>\n      <td>1.71 (+-0.16)</td>\n      <td>2.03 (+-0.16)</td>\n      <td>1.53 (+-0.15)</td>\n      <td>2.01 (+-0.17)</td>\n      <td>1.56 (+-0.15)</td>\n    </tr>\n    <tr>\n      <th>128_128_64_model-512_256_256_128_128_64_model</th>\n      <td>8.54 (+-0.08)</td>\n      <td>5.83 (+-0.13)</td>\n      <td>7.09 (+-0.07)</td>\n      <td>4.61 (+-0.12)</td>\n      <td>6.94 (+-0.08)</td>\n      <td>4.56 (+-0.12)</td>\n      <td>3.87 (+-0.39)</td>\n      <td>11.86 (+-0.9)</td>\n      <td>3.47 (+-0.27)</td>\n      <td>2.49 (+-0.16)</td>\n      <td>2.31 (+-0.28)</td>\n      <td>1.83 (+-0.15)</td>\n      <td>2.39 (+-0.28)</td>\n      <td>1.82 (+-0.15)</td>\n      <td>3.99 (+-0.25)</td>\n      <td>3.41 (+-0.19)</td>\n      <td>3.0 (+-0.21)</td>\n      <td>2.64 (+-0.17)</td>\n      <td>3.03 (+-0.22)</td>\n      <td>2.64 (+-0.18)</td>\n    </tr>\n    <tr>\n      <th>256_128_128_64_64_model-512_256_256_128_128_64_model</th>\n      <td>3.46 (+-0.11)</td>\n      <td>2.35 (+-0.11)</td>\n      <td>2.56 (+-0.11)</td>\n      <td>1.32 (+-0.1)</td>\n      <td>2.48 (+-0.12)</td>\n      <td>1.4 (+-0.09)</td>\n      <td>2.87 (+-0.36)</td>\n      <td>10.49 (+-0.9)</td>\n      <td>2.06 (+-0.19)</td>\n      <td>2.29 (+-0.17)</td>\n      <td>1.38 (+-0.12)</td>\n      <td>1.91 (+-0.19)</td>\n      <td>1.41 (+-0.12)</td>\n      <td>1.85 (+-0.18)</td>\n      <td>3.16 (+-0.26)</td>\n      <td>2.77 (+-0.17)</td>\n      <td>2.38 (+-0.21)</td>\n      <td>2.12 (+-0.2)</td>\n      <td>2.38 (+-0.2)</td>\n      <td>2.13 (+-0.2)</td>\n    </tr>\n    <tr>\n      <th>64_64_model-128_128_64_model</th>\n      <td>3.0 (+-0.15)</td>\n      <td>3.15 (+-0.19)</td>\n      <td>2.86 (+-0.17)</td>\n      <td>2.97 (+-0.17)</td>\n      <td>2.8 (+-0.15)</td>\n      <td>2.78 (+-0.17)</td>\n      <td>1.29 (+-0.15)</td>\n      <td>0.98 (+-0.13)</td>\n      <td>4.99 (+-0.54)</td>\n      <td>1.56 (+-0.2)</td>\n      <td>4.96 (+-0.56)</td>\n      <td>1.56 (+-0.2)</td>\n      <td>4.8 (+-0.56)</td>\n      <td>1.51 (+-0.2)</td>\n      <td>3.24 (+-0.35)</td>\n      <td>1.52 (+-0.18)</td>\n      <td>2.97 (+-0.35)</td>\n      <td>1.38 (+-0.16)</td>\n      <td>2.89 (+-0.35)</td>\n      <td>1.41 (+-0.15)</td>\n    </tr>\n    <tr>\n      <th>64_64_model-256_128_128_64_64_model</th>\n      <td>8.08 (+-0.18)</td>\n      <td>6.75 (+-0.18)</td>\n      <td>7.39 (+-0.19)</td>\n      <td>6.35 (+-0.17)</td>\n      <td>7.26 (+-0.18)</td>\n      <td>6.01 (+-0.16)</td>\n      <td>1.61 (+-0.18)</td>\n      <td>2.03 (+-0.16)</td>\n      <td>6.59 (+-0.55)</td>\n      <td>2.36 (+-0.25)</td>\n      <td>6.42 (+-0.56)</td>\n      <td>2.31 (+-0.25)</td>\n      <td>6.19 (+-0.56)</td>\n      <td>2.1 (+-0.24)</td>\n      <td>4.73 (+-0.36)</td>\n      <td>2.06 (+-0.22)</td>\n      <td>4.27 (+-0.36)</td>\n      <td>1.75 (+-0.2)</td>\n      <td>4.01 (+-0.37)</td>\n      <td>1.69 (+-0.19)</td>\n    </tr>\n  </tbody>\n</table>\n</div>"
     },
     "metadata": {},
     "execution_count": 5
    }
   ],
   "source": [
    "inter_wds_table.pivot(index=\"Models\", columns=\"Setting\", values=\"WD\").head()"
   ]
  },
  {
   "cell_type": "code",
   "execution_count": 3,
   "metadata": {},
   "outputs": [
    {
     "output_type": "execute_result",
     "data": {
      "text/plain": [
       "Setting                               Linear Cumulative Rewards Linear       Threshold Cumulative Rewards Threshold Linear as Threshold Cumulative Rewards Linear as Threshold\n",
       "Model                                                                                                                                                                         \n",
       "64_64_model                   12.79 (+-0.34)            13.21 (+-0.37)   4.85 (+-1.31)                8.99 (+-0.58)       7.35 (+-0.92)                         10.55 (+-0.54)\n",
       "128_128_64_model              15.78 (+-0.17)            16.35 (+-0.27)   9.63 (+-0.62)                9.89 (+-0.38)      10.27 (+-0.41)                         11.17 (+-0.43)\n",
       "256_128_128_64_64_model       20.86 (+-0.27)            19.94 (+-0.24)  11.33 (+-0.49)               10.77 (+-0.63)      11.63 (+-0.64)                         12.22 (+-0.42)\n",
       "512_256_256_128_128_64_model  24.32 (+-0.08)            22.12 (+-0.19)  12.91 (+-0.36)               11.58 (+-0.59)      13.71 (+-0.75)                         13.62 (+-0.86)"
      ],
      "text/html": "<div>\n<style scoped>\n    .dataframe tbody tr th:only-of-type {\n        vertical-align: middle;\n    }\n\n    .dataframe tbody tr th {\n        vertical-align: top;\n    }\n\n    .dataframe thead th {\n        text-align: right;\n    }\n</style>\n<table border=\"1\" class=\"dataframe\">\n  <thead>\n    <tr style=\"text-align: right;\">\n      <th>Setting</th>\n      <th>Linear</th>\n      <th>Cumulative Rewards Linear</th>\n      <th>Threshold</th>\n      <th>Cumulative Rewards Threshold</th>\n      <th>Linear as Threshold</th>\n      <th>Cumulative Rewards Linear as Threshold</th>\n    </tr>\n    <tr>\n      <th>Model</th>\n      <th></th>\n      <th></th>\n      <th></th>\n      <th></th>\n      <th></th>\n      <th></th>\n    </tr>\n  </thead>\n  <tbody>\n    <tr>\n      <th>64_64_model</th>\n      <td>12.79 (+-0.34)</td>\n      <td>13.21 (+-0.37)</td>\n      <td>4.85 (+-1.31)</td>\n      <td>8.99 (+-0.58)</td>\n      <td>7.35 (+-0.92)</td>\n      <td>10.55 (+-0.54)</td>\n    </tr>\n    <tr>\n      <th>128_128_64_model</th>\n      <td>15.78 (+-0.17)</td>\n      <td>16.35 (+-0.27)</td>\n      <td>9.63 (+-0.62)</td>\n      <td>9.89 (+-0.38)</td>\n      <td>10.27 (+-0.41)</td>\n      <td>11.17 (+-0.43)</td>\n    </tr>\n    <tr>\n      <th>256_128_128_64_64_model</th>\n      <td>20.86 (+-0.27)</td>\n      <td>19.94 (+-0.24)</td>\n      <td>11.33 (+-0.49)</td>\n      <td>10.77 (+-0.63)</td>\n      <td>11.63 (+-0.64)</td>\n      <td>12.22 (+-0.42)</td>\n    </tr>\n    <tr>\n      <th>512_256_256_128_128_64_model</th>\n      <td>24.32 (+-0.08)</td>\n      <td>22.12 (+-0.19)</td>\n      <td>12.91 (+-0.36)</td>\n      <td>11.58 (+-0.59)</td>\n      <td>13.71 (+-0.75)</td>\n      <td>13.62 (+-0.86)</td>\n    </tr>\n  </tbody>\n</table>\n</div>"
     },
     "metadata": {},
     "execution_count": 3
    }
   ],
   "source": [
    "table = utilities_table[utilities_table[\"Setting\"].isin(utils.STANDARD_SAMPLING_SETTINGS-utils.TARGET_SETTINGS)]\n",
    "table.pivot(index=\"Model\", columns=\"Setting\", values=\"Utility\").head()"
   ]
  },
  {
   "cell_type": "markdown",
   "metadata": {},
   "source": [
    "# Fixed Environment Evaluation"
   ]
  },
  {
   "cell_type": "code",
   "execution_count": 2,
   "metadata": {},
   "outputs": [],
   "source": [
    "path = \"C:/Users/maler/Federico/Università/Master/Tesi/evaluation_results/fixed_env_results/\"\n",
    "\n",
    "fixed_env_results = utils.load_results(path)\n",
    "keys = sorted(fixed_env_results.keys(), key=utils.sorting)\n",
    "\n",
    "fixed_env_unique_table = utils.uniques_table(fixed_env_results)\n",
    "fixed_env_non_dominated_table = utils.non_dominated_table(fixed_env_results)"
   ]
  },
  {
   "cell_type": "code",
   "execution_count": 3,
   "metadata": {},
   "outputs": [
    {
     "output_type": "execute_result",
     "data": {
      "text/plain": [
       "Setting                                Linear Cumulative Rewards Linear        Threshold Cumulative Rewards Threshold Linear as Threshold Cumulative Rewards Linear as Threshold\n",
       "Model                                                                                                                                                                           \n",
       "64_64_model                    152.2 (+-12.6)           212.2 (+-18.06)  143.7 (+-16.11)              182.2 (+-26.18)     116.8 (+-14.41)                        144.8 (+-22.77)\n",
       "128_128_64_model              215.5 (+-46.36)           239.2 (+-20.84)  267.7 (+-44.71)              223.0 (+-17.46)     221.5 (+-35.26)                        190.7 (+-12.27)\n",
       "256_128_128_64_64_model       253.5 (+-36.39)           283.0 (+-18.86)  445.0 (+-52.58)               401.2 (+-34.1)     314.2 (+-29.83)                        289.0 (+-23.27)\n",
       "512_256_256_128_128_64_model  254.0 (+-17.26)           343.7 (+-24.11)  501.7 (+-45.87)              465.2 (+-28.61)     378.2 (+-36.95)                        358.0 (+-19.44)"
      ],
      "text/html": "<div>\n<style scoped>\n    .dataframe tbody tr th:only-of-type {\n        vertical-align: middle;\n    }\n\n    .dataframe tbody tr th {\n        vertical-align: top;\n    }\n\n    .dataframe thead th {\n        text-align: right;\n    }\n</style>\n<table border=\"1\" class=\"dataframe\">\n  <thead>\n    <tr style=\"text-align: right;\">\n      <th>Setting</th>\n      <th>Linear</th>\n      <th>Cumulative Rewards Linear</th>\n      <th>Threshold</th>\n      <th>Cumulative Rewards Threshold</th>\n      <th>Linear as Threshold</th>\n      <th>Cumulative Rewards Linear as Threshold</th>\n    </tr>\n    <tr>\n      <th>Model</th>\n      <th></th>\n      <th></th>\n      <th></th>\n      <th></th>\n      <th></th>\n      <th></th>\n    </tr>\n  </thead>\n  <tbody>\n    <tr>\n      <th>64_64_model</th>\n      <td>152.2 (+-12.6)</td>\n      <td>212.2 (+-18.06)</td>\n      <td>143.7 (+-16.11)</td>\n      <td>182.2 (+-26.18)</td>\n      <td>116.8 (+-14.41)</td>\n      <td>144.8 (+-22.77)</td>\n    </tr>\n    <tr>\n      <th>128_128_64_model</th>\n      <td>215.5 (+-46.36)</td>\n      <td>239.2 (+-20.84)</td>\n      <td>267.7 (+-44.71)</td>\n      <td>223.0 (+-17.46)</td>\n      <td>221.5 (+-35.26)</td>\n      <td>190.7 (+-12.27)</td>\n    </tr>\n    <tr>\n      <th>256_128_128_64_64_model</th>\n      <td>253.5 (+-36.39)</td>\n      <td>283.0 (+-18.86)</td>\n      <td>445.0 (+-52.58)</td>\n      <td>401.2 (+-34.1)</td>\n      <td>314.2 (+-29.83)</td>\n      <td>289.0 (+-23.27)</td>\n    </tr>\n    <tr>\n      <th>512_256_256_128_128_64_model</th>\n      <td>254.0 (+-17.26)</td>\n      <td>343.7 (+-24.11)</td>\n      <td>501.7 (+-45.87)</td>\n      <td>465.2 (+-28.61)</td>\n      <td>378.2 (+-36.95)</td>\n      <td>358.0 (+-19.44)</td>\n    </tr>\n  </tbody>\n</table>\n</div>"
     },
     "metadata": {},
     "execution_count": 3
    }
   ],
   "source": [
    "table = fixed_env_unique_table[fixed_env_unique_table[\"Setting\"].isin(utils.STANDARD_SAMPLING_SETTINGS-utils.TARGET_SETTINGS)]\n",
    "table.pivot(index=\"Model\", columns=\"Setting\", values=\"Uniques\").head()"
   ]
  },
  {
   "cell_type": "code",
   "execution_count": 4,
   "metadata": {},
   "outputs": [
    {
     "output_type": "execute_result",
     "data": {
      "text/plain": [
       "Setting                                Linear Cumulative Rewards Linear        Threshold Cumulative Rewards Threshold Linear as Threshold Cumulative Rewards Linear as Threshold\n",
       "Model                                                                                                                                                                           \n",
       "64_64_model                     86.2 (+-5.41)            103.8 (+-6.58)   95.5 (+-15.78)              113.2 (+-13.75)      83.3 (+-15.85)                         93.3 (+-10.44)\n",
       "128_128_64_model              118.3 (+-18.42)             96.7 (+-2.74)   141.0 (+-26.7)              121.7 (+-15.25)     130.2 (+-23.21)                         113.8 (+-13.5)\n",
       "256_128_128_64_64_model        121.2 (+-14.8)            110.7 (+-3.52)  230.0 (+-36.17)              151.3 (+-15.89)      183.3 (+-21.4)                         120.2 (+-7.75)\n",
       "512_256_256_128_128_64_model   113.5 (+-6.61)            126.8 (+-6.07)  201.2 (+-31.76)              158.8 (+-10.71)     172.7 (+-27.08)                         154.7 (+-10.0)"
      ],
      "text/html": "<div>\n<style scoped>\n    .dataframe tbody tr th:only-of-type {\n        vertical-align: middle;\n    }\n\n    .dataframe tbody tr th {\n        vertical-align: top;\n    }\n\n    .dataframe thead th {\n        text-align: right;\n    }\n</style>\n<table border=\"1\" class=\"dataframe\">\n  <thead>\n    <tr style=\"text-align: right;\">\n      <th>Setting</th>\n      <th>Linear</th>\n      <th>Cumulative Rewards Linear</th>\n      <th>Threshold</th>\n      <th>Cumulative Rewards Threshold</th>\n      <th>Linear as Threshold</th>\n      <th>Cumulative Rewards Linear as Threshold</th>\n    </tr>\n    <tr>\n      <th>Model</th>\n      <th></th>\n      <th></th>\n      <th></th>\n      <th></th>\n      <th></th>\n      <th></th>\n    </tr>\n  </thead>\n  <tbody>\n    <tr>\n      <th>64_64_model</th>\n      <td>86.2 (+-5.41)</td>\n      <td>103.8 (+-6.58)</td>\n      <td>95.5 (+-15.78)</td>\n      <td>113.2 (+-13.75)</td>\n      <td>83.3 (+-15.85)</td>\n      <td>93.3 (+-10.44)</td>\n    </tr>\n    <tr>\n      <th>128_128_64_model</th>\n      <td>118.3 (+-18.42)</td>\n      <td>96.7 (+-2.74)</td>\n      <td>141.0 (+-26.7)</td>\n      <td>121.7 (+-15.25)</td>\n      <td>130.2 (+-23.21)</td>\n      <td>113.8 (+-13.5)</td>\n    </tr>\n    <tr>\n      <th>256_128_128_64_64_model</th>\n      <td>121.2 (+-14.8)</td>\n      <td>110.7 (+-3.52)</td>\n      <td>230.0 (+-36.17)</td>\n      <td>151.3 (+-15.89)</td>\n      <td>183.3 (+-21.4)</td>\n      <td>120.2 (+-7.75)</td>\n    </tr>\n    <tr>\n      <th>512_256_256_128_128_64_model</th>\n      <td>113.5 (+-6.61)</td>\n      <td>126.8 (+-6.07)</td>\n      <td>201.2 (+-31.76)</td>\n      <td>158.8 (+-10.71)</td>\n      <td>172.7 (+-27.08)</td>\n      <td>154.7 (+-10.0)</td>\n    </tr>\n  </tbody>\n</table>\n</div>"
     },
     "metadata": {},
     "execution_count": 4
    }
   ],
   "source": [
    "table = fixed_env_non_dominated_table[fixed_env_non_dominated_table[\"Setting\"].isin(utils.STANDARD_SAMPLING_SETTINGS-utils.TARGET_SETTINGS)]\n",
    "table.pivot(index=\"Model\", columns=\"Setting\", values=\"Non-Dominated\").head()"
   ]
  },
  {
   "cell_type": "markdown",
   "metadata": {},
   "source": [
    "# Reward Vector Evaluation"
   ]
  },
  {
   "cell_type": "code",
   "execution_count": 2,
   "metadata": {},
   "outputs": [
    {
     "output_type": "stream",
     "name": "stdout",
     "text": [
      "Loaded\n",
      "Unique table done\n"
     ]
    }
   ],
   "source": [
    "path = \"C:/Users/maler/Federico/Università/Master/Tesi/evaluation_results/reduced_reward_vector/\"\n",
    "\n",
    "reward_vector_results = utils.load_results(path)\n",
    "keys = sorted(reward_vector_results.keys(), key=utils.sorting)\n",
    "print(\"Loaded\")\n",
    "reward_vector_unique_table = utils.uniques_table(reward_vector_results)\n",
    "print(\"Unique table done\")\n",
    "reward_vector_non_dominated_table = utils.non_dominated_table(reward_vector_results)"
   ]
  },
  {
   "cell_type": "code",
   "execution_count": 3,
   "metadata": {},
   "outputs": [
    {
     "output_type": "execute_result",
     "data": {
      "text/plain": [
       "Setting                                 Linear Cumulative Rewards Linear             Target Cumulative Rewards Target          Threshold Cumulative Rewards Threshold Linear as Threshold Cumulative Rewards Linear as Threshold\n",
       "Model                                                                                                                                                                                                                           \n",
       "64_64_model                   1884.0 (+-63.56)          1966.8 (+-61.55)  2336.3 (+-229.28)         2676.8 (+-115.13)  2141.3 (+-174.16)             2053.7 (+-63.71)   2336.5 (+-203.73)                      2165.5 (+-131.95)\n",
       "128_128_64_model               1639.0 (+-71.4)          1559.3 (+-36.68)  2340.7 (+-178.23)         2699.0 (+-142.99)  1943.0 (+-191.58)            1920.3 (+-117.01)   2082.2 (+-200.97)                       1953.5 (+-153.8)\n",
       "256_128_128_64_64_model       1645.8 (+-33.94)          1780.3 (+-90.72)   2328.7 (+-81.27)         2777.3 (+-212.86)  2239.7 (+-234.66)            2119.2 (+-161.44)   2526.8 (+-236.67)                       2340.7 (+-218.7)\n",
       "512_256_256_128_128_64_model  1721.5 (+-75.75)          1855.3 (+-82.12)  2790.8 (+-125.87)         1839.0 (+-284.21)   1969.2 (+-151.6)             2050.8 (+-93.88)   2284.3 (+-255.61)                      2258.8 (+-219.39)"
      ],
      "text/html": "<div>\n<style scoped>\n    .dataframe tbody tr th:only-of-type {\n        vertical-align: middle;\n    }\n\n    .dataframe tbody tr th {\n        vertical-align: top;\n    }\n\n    .dataframe thead th {\n        text-align: right;\n    }\n</style>\n<table border=\"1\" class=\"dataframe\">\n  <thead>\n    <tr style=\"text-align: right;\">\n      <th>Setting</th>\n      <th>Linear</th>\n      <th>Cumulative Rewards Linear</th>\n      <th>Target</th>\n      <th>Cumulative Rewards Target</th>\n      <th>Threshold</th>\n      <th>Cumulative Rewards Threshold</th>\n      <th>Linear as Threshold</th>\n      <th>Cumulative Rewards Linear as Threshold</th>\n    </tr>\n    <tr>\n      <th>Model</th>\n      <th></th>\n      <th></th>\n      <th></th>\n      <th></th>\n      <th></th>\n      <th></th>\n      <th></th>\n      <th></th>\n    </tr>\n  </thead>\n  <tbody>\n    <tr>\n      <th>64_64_model</th>\n      <td>1884.0 (+-63.56)</td>\n      <td>1966.8 (+-61.55)</td>\n      <td>2336.3 (+-229.28)</td>\n      <td>2676.8 (+-115.13)</td>\n      <td>2141.3 (+-174.16)</td>\n      <td>2053.7 (+-63.71)</td>\n      <td>2336.5 (+-203.73)</td>\n      <td>2165.5 (+-131.95)</td>\n    </tr>\n    <tr>\n      <th>128_128_64_model</th>\n      <td>1639.0 (+-71.4)</td>\n      <td>1559.3 (+-36.68)</td>\n      <td>2340.7 (+-178.23)</td>\n      <td>2699.0 (+-142.99)</td>\n      <td>1943.0 (+-191.58)</td>\n      <td>1920.3 (+-117.01)</td>\n      <td>2082.2 (+-200.97)</td>\n      <td>1953.5 (+-153.8)</td>\n    </tr>\n    <tr>\n      <th>256_128_128_64_64_model</th>\n      <td>1645.8 (+-33.94)</td>\n      <td>1780.3 (+-90.72)</td>\n      <td>2328.7 (+-81.27)</td>\n      <td>2777.3 (+-212.86)</td>\n      <td>2239.7 (+-234.66)</td>\n      <td>2119.2 (+-161.44)</td>\n      <td>2526.8 (+-236.67)</td>\n      <td>2340.7 (+-218.7)</td>\n    </tr>\n    <tr>\n      <th>512_256_256_128_128_64_model</th>\n      <td>1721.5 (+-75.75)</td>\n      <td>1855.3 (+-82.12)</td>\n      <td>2790.8 (+-125.87)</td>\n      <td>1839.0 (+-284.21)</td>\n      <td>1969.2 (+-151.6)</td>\n      <td>2050.8 (+-93.88)</td>\n      <td>2284.3 (+-255.61)</td>\n      <td>2258.8 (+-219.39)</td>\n    </tr>\n  </tbody>\n</table>\n</div>"
     },
     "metadata": {},
     "execution_count": 3
    }
   ],
   "source": [
    "table = reward_vector_unique_table[reward_vector_unique_table[\"Setting\"].isin(utils.STANDARD_SAMPLING_SETTINGS)]\n",
    "table.pivot(index=\"Model\", columns=\"Setting\", values=\"Uniques\").head()"
   ]
  },
  {
   "cell_type": "code",
   "execution_count": 4,
   "metadata": {},
   "outputs": [
    {
     "output_type": "execute_result",
     "data": {
      "text/plain": [
       "Setting                                Linear Cumulative Rewards Linear           Target Cumulative Rewards Target        Threshold Cumulative Rewards Threshold Linear as Threshold Cumulative Rewards Linear as Threshold\n",
       "Model                                                                                                                                                                                                                      \n",
       "64_64_model                   373.8 (+-16.56)           386.3 (+-17.76)  528.5 (+-45.39)           601.5 (+-26.35)  416.7 (+-32.55)               401.5 (+-8.47)     446.3 (+-36.75)                        413.3 (+-21.86)\n",
       "128_128_64_model              333.2 (+-17.76)            290.2 (+-9.89)  560.8 (+-33.49)           667.0 (+-27.01)  403.3 (+-45.37)              386.0 (+-28.78)     417.3 (+-43.71)                        389.0 (+-34.07)\n",
       "256_128_128_64_64_model       354.8 (+-11.85)           367.2 (+-27.58)   499.7 (+-13.5)           624.8 (+-60.56)  462.8 (+-44.73)              430.3 (+-36.72)     503.3 (+-45.95)                        481.7 (+-46.34)\n",
       "512_256_256_128_128_64_model  371.3 (+-12.47)           381.7 (+-20.97)  604.3 (+-26.01)           488.7 (+-50.31)  398.8 (+-38.72)              430.0 (+-37.59)     465.2 (+-49.14)                        479.2 (+-64.68)"
      ],
      "text/html": "<div>\n<style scoped>\n    .dataframe tbody tr th:only-of-type {\n        vertical-align: middle;\n    }\n\n    .dataframe tbody tr th {\n        vertical-align: top;\n    }\n\n    .dataframe thead th {\n        text-align: right;\n    }\n</style>\n<table border=\"1\" class=\"dataframe\">\n  <thead>\n    <tr style=\"text-align: right;\">\n      <th>Setting</th>\n      <th>Linear</th>\n      <th>Cumulative Rewards Linear</th>\n      <th>Target</th>\n      <th>Cumulative Rewards Target</th>\n      <th>Threshold</th>\n      <th>Cumulative Rewards Threshold</th>\n      <th>Linear as Threshold</th>\n      <th>Cumulative Rewards Linear as Threshold</th>\n    </tr>\n    <tr>\n      <th>Model</th>\n      <th></th>\n      <th></th>\n      <th></th>\n      <th></th>\n      <th></th>\n      <th></th>\n      <th></th>\n      <th></th>\n    </tr>\n  </thead>\n  <tbody>\n    <tr>\n      <th>64_64_model</th>\n      <td>373.8 (+-16.56)</td>\n      <td>386.3 (+-17.76)</td>\n      <td>528.5 (+-45.39)</td>\n      <td>601.5 (+-26.35)</td>\n      <td>416.7 (+-32.55)</td>\n      <td>401.5 (+-8.47)</td>\n      <td>446.3 (+-36.75)</td>\n      <td>413.3 (+-21.86)</td>\n    </tr>\n    <tr>\n      <th>128_128_64_model</th>\n      <td>333.2 (+-17.76)</td>\n      <td>290.2 (+-9.89)</td>\n      <td>560.8 (+-33.49)</td>\n      <td>667.0 (+-27.01)</td>\n      <td>403.3 (+-45.37)</td>\n      <td>386.0 (+-28.78)</td>\n      <td>417.3 (+-43.71)</td>\n      <td>389.0 (+-34.07)</td>\n    </tr>\n    <tr>\n      <th>256_128_128_64_64_model</th>\n      <td>354.8 (+-11.85)</td>\n      <td>367.2 (+-27.58)</td>\n      <td>499.7 (+-13.5)</td>\n      <td>624.8 (+-60.56)</td>\n      <td>462.8 (+-44.73)</td>\n      <td>430.3 (+-36.72)</td>\n      <td>503.3 (+-45.95)</td>\n      <td>481.7 (+-46.34)</td>\n    </tr>\n    <tr>\n      <th>512_256_256_128_128_64_model</th>\n      <td>371.3 (+-12.47)</td>\n      <td>381.7 (+-20.97)</td>\n      <td>604.3 (+-26.01)</td>\n      <td>488.7 (+-50.31)</td>\n      <td>398.8 (+-38.72)</td>\n      <td>430.0 (+-37.59)</td>\n      <td>465.2 (+-49.14)</td>\n      <td>479.2 (+-64.68)</td>\n    </tr>\n  </tbody>\n</table>\n</div>"
     },
     "metadata": {},
     "execution_count": 4
    }
   ],
   "source": [
    "table = reward_vector_non_dominated_table[reward_vector_non_dominated_table[\"Setting\"].isin(utils.STANDARD_SAMPLING_SETTINGS)]\n",
    "table.pivot(index=\"Model\", columns=\"Setting\", values=\"Non-Dominated\").head()"
   ]
  },
  {
   "cell_type": "markdown",
   "metadata": {},
   "source": [
    "# Stale Analysis"
   ]
  },
  {
   "cell_type": "code",
   "execution_count": null,
   "metadata": {},
   "outputs": [],
   "source": [
    "path = \"C:/Users/maler/Federico/Università/Master/Tesi/evaluation_results//legacy_results/\"\n",
    "\n",
    "results_files = {\"david\": [\"david_200221.npy\", \"david_210221.npy\", \"david_210221_2.npy\"],\n",
    "                 \"my_env\": [\"my_210220.npy\", \"my_210221.npy\", \"my_210221_2.npy\"],\n",
    "                 \"new\": [\"new_gath_repl_1.npy\", \"new_gath_repl_2.npy\", \"new_gath_repl_3.npy\"],\n",
    "                 \"tfa\": [\"gathering_replication_1.npy\", \"gathering_replication_2.npy\", \"gathering_replication_3.npy\",\n",
    "                         \"gathering_replication_4.npy\"]\n",
    "\n",
    "\n",
    "keys = sorted(results_files.keys())\n",
    "results = dict()\n",
    "for key in keys:\n",
    "    results[key] = [np.load(path + file, allow_pickle=True) for file in results_files[key]]\n",
    "\n",
    "if True:\n",
    "    for key in keys:\n",
    "        results[key] = [result[result != -1] for result in results[key]]\n"
   ]
  },
  {
   "cell_type": "code",
   "execution_count": null,
   "metadata": {},
   "outputs": [],
   "source": [
    "'''\n",
    "plt.figure(figsize=(15, 12))\n",
    "i = 1\n",
    "for result in results[\"my_env\"] + results[\"david\"] + results[\"tfa\"][:-1]:\n",
    "    plt.subplot(3, 3, i)\n",
    "    plt.title(f\"Number of sampled episodes: {result.shape[0]}\")\n",
    "    plt.hist(result, bins=200, density=True)\n",
    "    i += 1\n",
    "\n",
    "plt.tight_layout()\n",
    "plt.show()\n",
    "'''\n",
    "zz =0"
   ]
  }
 ],
 "metadata": {
  "kernelspec": {
   "display_name": "master_thesis",
   "language": "python",
   "name": "master_thesis"
  },
  "language_info": {
   "codemirror_mode": {
    "name": "ipython",
    "version": 3
   },
   "file_extension": ".py",
   "mimetype": "text/x-python",
   "name": "python",
   "nbconvert_exporter": "python",
   "pygments_lexer": "ipython3",
   "version": "3.8.7"
  }
 },
 "nbformat": 4,
 "nbformat_minor": 4
}