{
 "cells": [
  {
   "cell_type": "code",
   "execution_count": 1,
   "metadata": {},
   "outputs": [],
   "source": [
    "import utils\n",
    "import numpy as np\n",
    "import os\n",
    "import pandas as pd\n",
    "import matplotlib.pyplot as plt\n",
    "from scipy.stats import wasserstein_distance\n",
    "\n",
    "pd.set_option('display.expand_frame_repr', False)\n",
    "\n",
    "%matplotlib inline"
   ]
  },
  {
   "cell_type": "code",
   "execution_count": null,
   "metadata": {},
   "outputs": [],
   "source": [
    "path = \"results/reward_vector/\"\n",
    "for file in os.listdir(path):\n",
    "    if os.path.isfile(path + file):\n",
    "        shape = np.load(path + file, allow_pickle=True).shape\n",
    "        print(f\"{file:<60}     {shape}\")"
   ]
  },
  {
   "cell_type": "markdown",
   "metadata": {},
   "source": [
    "# Scalar Utilities"
   ]
  },
  {
   "cell_type": "code",
   "execution_count": 2,
   "metadata": {},
   "outputs": [],
   "source": [
    "path = \"results/utilities/\"\n",
    "\n",
    "results = utils.load_results(path)\n",
    "keys = sorted(results.keys(), key=utils.sorting)"
   ]
  },
  {
   "cell_type": "code",
   "execution_count": null,
   "metadata": {},
   "outputs": [],
   "source": [
    "intra_wds = dict()\n",
    "for key in keys:\n",
    "    intra_wds[key] = [wasserstein_distance(results[key][i], results[key][j])\n",
    "                      for i in range(len(results[key])) for j in range(i+1, len(results[key]))]\n",
    "\n",
    "inter_wds = dict()\n",
    "for i in range(len(keys)):\n",
    "    for j in range(i+1, len(keys)):\n",
    "        key_1, key_2 = keys[i], keys[j]\n",
    "        if key_1.split(\"-\")[0] == key_2.split(\"-\")[0]:\n",
    "            inter_wds[key_1 + \"--\" + key_2] = [wasserstein_distance(result_1, result_2)\n",
    "                                            for result_1 in results[key_1] for result_2 in results[key_2]]\n",
    "\n",
    "for key in keys:\n",
    "    mean_WD = np.round(np.mean(intra_wds[key]), 2)\n",
    "    print(f\"{key:<40}     {mean_WD}\")"
   ]
  },
  {
   "cell_type": "code",
   "execution_count": null,
   "metadata": {},
   "outputs": [],
   "source": [
    "for key in inter_wds.keys():\n",
    "    mean_WD = np.round(np.mean(inter_wds[key]), 2)\n",
    "    print(f\"{key:<70}     {mean_WD}\")"
   ]
  },
  {
   "cell_type": "code",
   "execution_count": 3,
   "metadata": {},
   "outputs": [],
   "source": [
    "utilities_table = utils.utilities_table(results)"
   ]
  },
  {
   "cell_type": "code",
   "execution_count": 4,
   "metadata": {},
   "outputs": [
    {
     "output_type": "stream",
     "name": "stdout",
     "text": [
      "                 Environment                    Model Uniques          Utility\n0            cum_rewards_env         128_128_64_model     NaN  14.95  (+-0.28)\n1            cum_rewards_env  256_128_128_64_64_model     NaN  18.52  (+-0.24)\n2            cum_rewards_env              64_64_model     NaN   11.82  (+-0.4)\n3          cum_threshold_env         128_128_64_model     NaN   8.47  (+-0.42)\n4          cum_threshold_env  256_128_128_64_64_model     NaN   9.28  (+-0.63)\n5          cum_threshold_env              64_64_model     NaN   7.55  (+-0.63)\n6   cum_threshold_env_linear         128_128_64_model     NaN   9.74  (+-0.43)\n7   cum_threshold_env_linear  256_128_128_64_64_model     NaN  10.88  (+-0.39)\n8   cum_threshold_env_linear              64_64_model     NaN   9.27  (+-0.53)\n9            replication_env         128_128_64_model     NaN  14.35  (+-0.18)\n10           replication_env  256_128_128_64_64_model     NaN  19.39  (+-0.29)\n11           replication_env              64_64_model     NaN  11.44  (+-0.35)\n12             threshold_env         128_128_64_model     NaN   8.24  (+-0.64)\n13             threshold_env  256_128_128_64_64_model     NaN   9.96  (+-0.49)\n14             threshold_env              64_64_model     NaN   3.42  (+-1.34)\n15      threshold_env_linear         128_128_64_model     NaN   8.83  (+-0.42)\n16      threshold_env_linear  256_128_128_64_64_model     NaN  10.17  (+-0.68)\n17      threshold_env_linear              64_64_model     NaN   6.03  (+-0.94)\n"
     ]
    }
   ],
   "source": [
    "print(utilities_table.pivot(index=\"Model\", columns=\"Environment\", values=\"Utility\"))"
   ]
  },
  {
   "cell_type": "code",
   "execution_count": null,
   "metadata": {},
   "outputs": [],
   "source": [
    "print(\"{:^30}            {:^12}      {:^10}\".format(\"Model\", \"Mean\", \"Standard Error\"))\n",
    "for key in keys:\n",
    "    res = [np.mean(result) for result in results[key]]\n",
    "    mean = np.round(np.mean(res), 2)\n",
    "    std_err = np.round(np.std(res)/np.sqrt(len(res)), 2)\n",
    "    print(f\"{key:<40}     {str(mean):<12}       {str(std_err):<30}\")"
   ]
  },
  {
   "cell_type": "code",
   "execution_count": null,
   "metadata": {},
   "outputs": [],
   "source": [
    "for key in keys:\n",
    "    result_list = [np.mean(result) for result in results[key]]\n",
    "    print(f\"{key:<40} {result_list}\")"
   ]
  },
  {
   "source": [
    "# Fixed Environment Evaluation"
   ],
   "cell_type": "markdown",
   "metadata": {}
  },
  {
   "cell_type": "code",
   "execution_count": 2,
   "metadata": {},
   "outputs": [],
   "source": [
    "path = \"results/fixed_env_results/\"\n",
    "\n",
    "results = utils.load_results(path)\n",
    "keys = sorted(results.keys(), key=utils.sorting)\n",
    "\n",
    "unique_table = utils.fixed_env_table(results)"
   ]
  },
  {
   "cell_type": "code",
   "execution_count": 3,
   "metadata": {},
   "outputs": [
    {
     "output_type": "stream",
     "name": "stdout",
     "text": [
      "Environment              replication_env  threshold_env  cum_rewards_env  cum_threshold_env\nModel                                                                                      \n64_64_model                        141.2          154.2            192.7              194.2\n128_128_64_model                   198.8          281.8            222.2              234.7\n256_128_128_64_64_model            237.8          440.8            258.5              403.2\n"
     ]
    }
   ],
   "source": [
    "print(unique_table.pivot(index=\"Model\", columns=\"Environment\", values=\"Uniques\"))"
   ]
  },
  {
   "cell_type": "code",
   "execution_count": null,
   "metadata": {},
   "outputs": [],
   "source": [
    "for key in keys:\n",
    "    uniques = [np.unique(result, axis=0).shape[0] for result in results[key]]\n",
    "    mean_uniques = np.round(np.mean(uniques), 1)\n",
    "    print(f\"{key:<60} {str(uniques):<40} {mean_uniques}\")"
   ]
  },
  {
   "source": [
    "# Stale Analysis"
   ],
   "cell_type": "markdown",
   "metadata": {}
  },
  {
   "cell_type": "code",
   "execution_count": null,
   "metadata": {},
   "outputs": [],
   "source": [
    "path = \"results/legacy_results/\"\n",
    "\n",
    "results_files = {\"david\": [\"david_200221.npy\", \"david_210221.npy\", \"david_210221_2.npy\"],\n",
    "                 \"my_env\": [\"my_210220.npy\", \"my_210221.npy\", \"my_210221_2.npy\"],\n",
    "                 \"new\": [\"new_gath_repl_1.npy\", \"new_gath_repl_2.npy\", \"new_gath_repl_3.npy\"],\n",
    "                 \"tfa\": [\"gathering_replication_1.npy\", \"gathering_replication_2.npy\", \"gathering_replication_3.npy\",\n",
    "                         \"gathering_replication_4.npy\"]\n",
    "\n",
    "\n",
    "keys = sorted(results_files.keys())\n",
    "results = dict()\n",
    "for key in keys:\n",
    "    results[key] = [np.load(path + file, allow_pickle=True) for file in results_files[key]]\n",
    "\n",
    "if True:\n",
    "    for key in keys:\n",
    "        results[key] = [result[result != -1] for result in results[key]]\n"
   ]
  },
  {
   "cell_type": "code",
   "execution_count": null,
   "metadata": {},
   "outputs": [],
   "source": [
    "'''\n",
    "plt.figure(figsize=(15, 12))\n",
    "i = 1\n",
    "for result in results[\"my_env\"] + results[\"david\"] + results[\"tfa\"][:-1]:\n",
    "    plt.subplot(3, 3, i)\n",
    "    plt.title(f\"Number of sampled episodes: {result.shape[0]}\")\n",
    "    plt.hist(result, bins=200, density=True)\n",
    "    i += 1\n",
    "\n",
    "plt.tight_layout()\n",
    "plt.show()\n",
    "'''\n",
    "zz =0"
   ]
  }
 ],
 "metadata": {
  "kernelspec": {
   "display_name": "master_thesis",
   "language": "python",
   "name": "master_thesis"
  },
  "language_info": {
   "codemirror_mode": {
    "name": "ipython",
    "version": 3
   },
   "file_extension": ".py",
   "mimetype": "text/x-python",
   "name": "python",
   "nbconvert_exporter": "python",
   "pygments_lexer": "ipython3",
   "version": "3.8.7-final"
  }
 },
 "nbformat": 4,
 "nbformat_minor": 2
}