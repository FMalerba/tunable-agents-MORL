{
 "cells": [
  {
   "cell_type": "code",
   "execution_count": 1,
   "metadata": {},
   "outputs": [],
   "source": [
    "from tunable_agents import utility, main, agent\n",
    "import utils\n",
    "import gin\n",
    "import numpy as np\n",
    "import os\n",
    "import tensorflow as tf\n",
    "from tensorflow import keras\n",
    "from tunable_agents.environments.gathering_env import gathering_env\n",
    "import matplotlib.pyplot as plt\n",
    "from scipy.stats import wasserstein_distance\n",
    "\n",
    "%matplotlib inline\n",
    "#gpus = tf.config.experimental.list_physical_devices('GPU')\n",
    "#tf.config.experimental.set_memory_growth(gpus[0], True)"
   ]
  },
  {
   "cell_type": "code",
   "execution_count": null,
   "metadata": {},
   "outputs": [],
   "source": [
    "for file in os.listdir(\"results/\"):\n",
    "    if os.path.isfile(\"results/\" + file):\n",
    "        shape = np.load(\"results/\" + file).shape\n",
    "        print(f\"{file:<60}     {shape}\")"
   ]
  },
  {
   "cell_type": "markdown",
   "metadata": {},
   "source": [
    "# Scalar Utilities"
   ]
  },
  {
   "cell_type": "code",
   "execution_count": 2,
   "metadata": {},
   "outputs": [],
   "source": [
    "path = \"results/\"\n",
    "\n",
    "results_files = {\"repl_model-repl_env\": [file for file in os.listdir(path) if (os.path.isfile(path + file) and \"64_64_model-replication_env\" in file)],\n",
    "                 \"repl_model-cum_env\": [file for file in os.listdir(path) if (os.path.isfile(path + file) and \"64_64_model-cum_rewards_env\" in file)],\n",
    "                 \"repl_model-thresh_env\": [file for file in os.listdir(path) if (os.path.isfile(path + file) and \"64_64_model-threshold_env\" in file)],\n",
    "                 \"repl_model-cum_thresh_env\": [file for file in os.listdir(path) if (os.path.isfile(path + file) and \"64_64_model-cum_threshold_env\" in file)],\n",
    "                 \"128_128_64_model-repl_env\": [file for file in os.listdir(path) if (os.path.isfile(path + file) and \"128_128_64_model-replication_env\" in file)],\n",
    "                 \"128_128_64_model-cum_env\": [file for file in os.listdir(path) if (os.path.isfile(path + file) and \"128_128_64_model-cum_rewards_env\" in file)],\n",
    "                 \"128_128_64_model-thresh_env\": [file for file in os.listdir(path) if (os.path.isfile(path + file) and \"128_128_64_model-threshold_env\" in file)],\n",
    "                 \"128_128_64_model-cum_thresh_env\": [file for file in os.listdir(path) if (os.path.isfile(path + file) and \"128_128_64_model-cum_threshold_env\" in file)]\n",
    "                 }\n",
    "\n",
    "\n",
    "keys = sorted(results_files.keys())\n",
    "results = dict()\n",
    "for key in keys:\n",
    "    results[key] = [np.load(\"results/\" + file) for file in results_files[key]]\n",
    "\n",
    "if False:\n",
    "    for key in keys:\n",
    "        results[key] = [result[result != -1] for result in results[key]]\n"
   ]
  },
  {
   "cell_type": "code",
   "execution_count": 3,
   "metadata": {},
   "outputs": [
    {
     "output_type": "stream",
     "name": "stdout",
     "text": [
      "128_128_64_model-cum_env                     0.987\n128_128_64_model-cum_thresh_env              1.5801\n128_128_64_model-repl_env                    0.7244\n128_128_64_model-thresh_env                  2.0162\nrepl_model-cum_env                           1.327\nrepl_model-cum_thresh_env                    2.3361\nrepl_model-repl_env                          1.2287\nrepl_model-thresh_env                        4.303\n"
     ]
    }
   ],
   "source": [
    "intra_wds = dict()\n",
    "for key in keys:\n",
    "    intra_wds[key] = [wasserstein_distance(results[key][i], results[key][j])\n",
    "                      for i in range(len(results[key])) for j in range(i+1, len(results[key]))]\n",
    "\n",
    "inter_wds = dict()\n",
    "for i in range(len(keys)):\n",
    "    for j in range(i+1, len(keys)):\n",
    "        key_1, key_2 = keys[i], keys[j]\n",
    "        if key_1.split(\"-\")[1] == key_2.split(\"-\")[1]:\n",
    "            inter_wds[key_1 + \"--\" + key_2] = [wasserstein_distance(result_1, result_2)\n",
    "                                            for result_1 in results[key_1] for result_2 in results[key_2]]\n",
    "\n",
    "for key in keys:\n",
    "    mean_WD = np.round(np.mean(intra_wds[key]), 4)\n",
    "    print(f\"{key:<40}     {mean_WD}\")"
   ]
  },
  {
   "cell_type": "code",
   "execution_count": 4,
   "metadata": {},
   "outputs": [
    {
     "output_type": "stream",
     "name": "stdout",
     "text": [
      "128_128_64_model-cum_env--repl_model-cum_env                               3.1498\n128_128_64_model-cum_thresh_env--repl_model-cum_thresh_env                 1.8499\n128_128_64_model-repl_env--repl_model-repl_env                             2.9361\n128_128_64_model-thresh_env--repl_model-thresh_env                         5.0472\n"
     ]
    }
   ],
   "source": [
    "\n",
    "for key in inter_wds.keys():\n",
    "    mean_WD = np.round(np.mean(inter_wds[key]), 4)\n",
    "    print(f\"{key:<70}     {mean_WD}\")"
   ]
  },
  {
   "cell_type": "code",
   "execution_count": 5,
   "metadata": {},
   "outputs": [
    {
     "output_type": "stream",
     "name": "stdout",
     "text": [
      "            Model                             Mean          Standard Error\n128_128_64_model-cum_env                     14.9522            0.2754                        \n128_128_64_model-cum_thresh_env              8.5854             0.485                         \n128_128_64_model-repl_env                    14.3529            0.1786                        \n128_128_64_model-thresh_env                  8.2447             0.642                         \nrepl_model-cum_env                           11.8223            0.4006                        \nrepl_model-cum_thresh_env                    7.4677             0.8625                        \nrepl_model-repl_env                          11.436             0.3531                        \nrepl_model-thresh_env                        3.4226             1.3389                        \n"
     ]
    }
   ],
   "source": [
    "print(\"{:^30}            {:^12}      {:^10}\".format(\"Model\", \"Mean\", \"Standard Error\"))\n",
    "for key in keys:\n",
    "    res = [np.mean(result) for result in results[key]]\n",
    "    mean = np.round(np.mean(res), 4)\n",
    "    std_err = np.round(np.std(res)/np.sqrt(len(res)), 4)\n",
    "    print(f\"{key:<40}     {str(mean):<12}       {str(std_err):<30}\")"
   ]
  },
  {
   "cell_type": "code",
   "execution_count": 6,
   "metadata": {},
   "outputs": [
    {
     "output_type": "stream",
     "name": "stdout",
     "text": [
      "128_128_64_model-cum_env [13.910725, 15.17225, 15.2183, 14.432275, 14.9077, 16.07195]\n128_128_64_model-cum_thresh_env [8.889875, 7.134875, 9.937125, 9.4408, 7.524575]\n128_128_64_model-repl_env [13.912125, 14.477425, 13.91235, 14.568975, 15.14865, 14.0978]\n128_128_64_model-thresh_env [5.01925, 7.8694, 9.491775, 9.701975, 9.0186, 8.367375]\nrepl_model-cum_env [11.6996, 12.63365, 11.8517, 10.0577, 13.19475, 11.496625]\nrepl_model-cum_thresh_env [8.764525, 7.88765, 8.67945, 4.539075]\nrepl_model-repl_env [12.474725, 10.209075, 10.3794, 11.6756, 11.603375, 12.273975]\nrepl_model-thresh_env [-2.852275, 4.206975, 1.9436, 6.92235, 3.726675, 6.588025]\n"
     ]
    }
   ],
   "source": [
    "for key in keys:\n",
    "    print(key, [np.mean(result) for result in results[key]])"
   ]
  },
  {
   "source": [
    "# Stale Analysis"
   ],
   "cell_type": "markdown",
   "metadata": {}
  },
  {
   "cell_type": "code",
   "execution_count": null,
   "metadata": {},
   "outputs": [],
   "source": [
    "path = \"results/\"\n",
    "\n",
    "results_files = {\"david\": [\"david_200221.npy\", \"david_210221.npy\", \"david_210221_2.npy\"],\n",
    "                 \"my_env\": [\"my_210220.npy\", \"my_210221.npy\", \"my_210221_2.npy\"],\n",
    "                 \"new\": [\"new_gath_repl_1.npy\", \"new_gath_repl_2.npy\", \"new_gath_repl_3.npy\"],\n",
    "                 \"tfa\": [\"gathering_replication_1.npy\", \"gathering_replication_2.npy\", \"gathering_replication_3.npy\",\n",
    "                         \"gathering_replication_4.npy\"]\n",
    "\n",
    "\n",
    "keys = sorted(results_files.keys())\n",
    "results = dict()\n",
    "for key in keys:\n",
    "    results[key] = [np.load(\"results/\" + file, allow_pickle=True) for file in results_files[key]]\n",
    "\n",
    "if True:\n",
    "    for key in keys:\n",
    "        results[key] = [result[result != -1] for result in results[key]]\n"
   ]
  },
  {
   "cell_type": "code",
   "execution_count": null,
   "metadata": {},
   "outputs": [],
   "source": [
    "'''\n",
    "plt.figure(figsize=(15, 12))\n",
    "i = 1\n",
    "for result in results[\"my_env\"] + results[\"david\"] + results[\"tfa\"][:-1]:\n",
    "    plt.subplot(3, 3, i)\n",
    "    plt.title(f\"Number of sampled episodes: {result.shape[0]}\")\n",
    "    plt.hist(result, bins=200, density=True)\n",
    "    i += 1\n",
    "\n",
    "plt.tight_layout()\n",
    "plt.show()\n",
    "'''\n",
    "zz =0"
   ]
  }
 ],
 "metadata": {
  "kernelspec": {
   "display_name": "master_thesis",
   "language": "python",
   "name": "master_thesis"
  },
  "language_info": {
   "codemirror_mode": {
    "name": "ipython",
    "version": 3
   },
   "file_extension": ".py",
   "mimetype": "text/x-python",
   "name": "python",
   "nbconvert_exporter": "python",
   "pygments_lexer": "ipython3",
   "version": "3.8.7-final"
  }
 },
 "nbformat": 4,
 "nbformat_minor": 2
}