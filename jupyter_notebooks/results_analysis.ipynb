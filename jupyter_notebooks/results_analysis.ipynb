{
 "cells": [
  {
   "cell_type": "code",
   "execution_count": null,
   "metadata": {},
   "outputs": [],
   "source": [
    "import utils\n",
    "import numpy as np\n",
    "import os\n",
    "import pandas as pd\n",
    "import matplotlib.pyplot as plt\n",
    "\n",
    "pd.set_option('display.expand_frame_repr', False)\n",
    "\n",
    "%matplotlib inline"
   ]
  },
  {
   "cell_type": "code",
   "execution_count": null,
   "metadata": {},
   "outputs": [],
   "source": [
    "path = \"results/reward_vector/\"\n",
    "for file in os.listdir(path):\n",
    "    if os.path.isfile(path + file):\n",
    "        shape = np.load(path + file, allow_pickle=True).shape\n",
    "        print(f\"{file:<60}     {shape}\")"
   ]
  },
  {
   "cell_type": "markdown",
   "metadata": {},
   "source": [
    "# Scalar Utilities"
   ]
  },
  {
   "cell_type": "code",
   "execution_count": null,
   "metadata": {},
   "outputs": [],
   "source": [
    "path = \"results/utility_results/\"\n",
    "\n",
    "results = utils.load_results(path)\n",
    "keys = sorted(results.keys(), key=utils.sorting)"
   ]
  },
  {
   "cell_type": "code",
   "execution_count": null,
   "metadata": {},
   "outputs": [],
   "source": [
    "intra_wds_table, inter_wds_table = utils.wds_tables(results)\n",
    "intra_wds_table.pivot(index=\"Model\", columns=\"Environment\", values=\"WD\").head()"
   ]
  },
  {
   "cell_type": "code",
   "execution_count": null,
   "metadata": {},
   "outputs": [],
   "source": [
    "inter_wds_table.pivot(index=\"Models\", columns=\"Environment\", values=\"WD\").head()"
   ]
  },
  {
   "cell_type": "code",
   "execution_count": null,
   "metadata": {},
   "outputs": [],
   "source": [
    "utilities_table = utils.utilities_table(results)\n",
    "utilities_table.pivot(index=\"Model\", columns=\"Environment\", values=\"Utility\").head()"
   ]
  },
  {
   "cell_type": "code",
   "execution_count": null,
   "metadata": {},
   "outputs": [],
   "source": [
    "for key in keys:\n",
    "    result_list = [np.mean(result) for result in results[key]]\n",
    "    print(f\"{key:<40} {result_list}\")"
   ]
  },
  {
   "cell_type": "markdown",
   "metadata": {},
   "source": [
    "# Fixed Environment Evaluation"
   ]
  },
  {
   "cell_type": "code",
   "execution_count": null,
   "metadata": {},
   "outputs": [],
   "source": [
    "path = \"results/old_fixed_env_results/\"\n",
    "\n",
    "results = utils.load_results(path)\n",
    "keys = sorted(results.keys(), key=utils.sorting)\n",
    "\n",
    "unique_table = utils.fixed_env_table(results)"
   ]
  },
  {
   "cell_type": "code",
   "execution_count": null,
   "metadata": {},
   "outputs": [],
   "source": [
    "unique_table.pivot(index=\"Model\", columns=\"Environment\", values=\"Uniques\").head()"
   ]
  },
  {
   "cell_type": "code",
   "execution_count": null,
   "metadata": {},
   "outputs": [],
   "source": [
    "for key in keys:\n",
    "    uniques = [np.unique(result, axis=0).shape[0] for result in results[key]]\n",
    "    mean_uniques = np.round(np.mean(uniques), 1)\n",
    "    print(f\"{key:<60} {str(uniques):<40} {mean_uniques}\")"
   ]
  },
  {
   "cell_type": "markdown",
   "metadata": {},
   "source": [
    "# Stale Analysis"
   ]
  },
  {
   "cell_type": "code",
   "execution_count": null,
   "metadata": {},
   "outputs": [],
   "source": [
    "path = \"results/legacy_results/\"\n",
    "\n",
    "results_files = {\"david\": [\"david_200221.npy\", \"david_210221.npy\", \"david_210221_2.npy\"],\n",
    "                 \"my_env\": [\"my_210220.npy\", \"my_210221.npy\", \"my_210221_2.npy\"],\n",
    "                 \"new\": [\"new_gath_repl_1.npy\", \"new_gath_repl_2.npy\", \"new_gath_repl_3.npy\"],\n",
    "                 \"tfa\": [\"gathering_replication_1.npy\", \"gathering_replication_2.npy\", \"gathering_replication_3.npy\",\n",
    "                         \"gathering_replication_4.npy\"]\n",
    "\n",
    "\n",
    "keys = sorted(results_files.keys())\n",
    "results = dict()\n",
    "for key in keys:\n",
    "    results[key] = [np.load(path + file, allow_pickle=True) for file in results_files[key]]\n",
    "\n",
    "if True:\n",
    "    for key in keys:\n",
    "        results[key] = [result[result != -1] for result in results[key]]\n"
   ]
  },
  {
   "cell_type": "code",
   "execution_count": null,
   "metadata": {},
   "outputs": [],
   "source": [
    "'''\n",
    "plt.figure(figsize=(15, 12))\n",
    "i = 1\n",
    "for result in results[\"my_env\"] + results[\"david\"] + results[\"tfa\"][:-1]:\n",
    "    plt.subplot(3, 3, i)\n",
    "    plt.title(f\"Number of sampled episodes: {result.shape[0]}\")\n",
    "    plt.hist(result, bins=200, density=True)\n",
    "    i += 1\n",
    "\n",
    "plt.tight_layout()\n",
    "plt.show()\n",
    "'''\n",
    "zz =0"
   ]
  }
 ],
 "metadata": {
  "kernelspec": {
   "display_name": "master_thesis",
   "language": "python",
   "name": "master_thesis"
  },
  "language_info": {
   "codemirror_mode": {
    "name": "ipython",
    "version": 3
   },
   "file_extension": ".py",
   "mimetype": "text/x-python",
   "name": "python",
   "nbconvert_exporter": "python",
   "pygments_lexer": "ipython3",
   "version": "3.8.7-final"
  }
 },
 "nbformat": 4,
 "nbformat_minor": 4
}