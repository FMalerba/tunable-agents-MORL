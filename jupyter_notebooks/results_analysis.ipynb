{
 "cells": [
  {
   "cell_type": "code",
   "execution_count": null,
   "metadata": {},
   "outputs": [],
   "source": [
    "import utils\n",
    "import numpy as np\n",
    "import os\n",
    "import pandas as pd\n",
    "from pathlib import Path\n",
    "import matplotlib.pyplot as plt\n",
    "\n",
    "\n",
    "pd.set_option('display.expand_frame_repr', False)\n",
    "\n",
    "%matplotlib inline\n",
    "\n",
    "results_path = Path(\"C:/Users/maler/Federico/Università/Master/Tesi/evaluation_results/\")"
   ]
  },
  {
   "cell_type": "markdown",
   "metadata": {},
   "source": [
    "# Scalar Utilities"
   ]
  },
  {
   "cell_type": "code",
   "execution_count": null,
   "metadata": {},
   "outputs": [],
   "source": [
    "utilities_table = utils.load_csv(\"tables/utilities_table.csv\")"
   ]
  },
  {
   "cell_type": "code",
   "execution_count": null,
   "metadata": {},
   "outputs": [],
   "source": [
    "table = utilities_table[utilities_table[\"Setting\"].isin(utils.STANDARD_SAMPLING_SETTINGS.intersection(utils.LINEAR_SETTINGS.union(utils.THRESHOLD_SETTINGS).union(utils.DUAL_THRESHOLD_SETTINGS)))]\n",
    "table.pivot(index=\"Setting\", columns=\"Model\", values=\"Utility\").head()"
   ]
  },
  {
   "cell_type": "code",
   "execution_count": null,
   "metadata": {},
   "outputs": [],
   "source": [
    "print(utils.convert_to_latex(table.pivot(index=\"Setting\", columns=\"Model\", values=\"Utility\")))"
   ]
  },
  {
   "cell_type": "markdown",
   "metadata": {},
   "source": [
    "# Fixed Environment Evaluation"
   ]
  },
  {
   "cell_type": "code",
   "execution_count": null,
   "metadata": {},
   "outputs": [],
   "source": [
    "fixed_env_unique_non_dom_table = utils.load_csv(\"tables/fixed_env_unique_non_dom_table.csv\")"
   ]
  },
  {
   "cell_type": "code",
   "execution_count": null,
   "metadata": {},
   "outputs": [],
   "source": [
    "table = fixed_env_unique_non_dom_table[fixed_env_unique_non_dom_table[\"Setting\"].isin(utils.STANDARD_SAMPLING_SETTINGS.intersection(utils.LINEAR_SETTINGS.union(utils.THRESHOLD_SETTINGS).union(utils.DUAL_THRESHOLD_SETTINGS)))]\n",
    "table.pivot(index=\"Setting\", columns=\"Model\", values=\"Uniques\").head()"
   ]
  },
  {
   "cell_type": "code",
   "execution_count": null,
   "metadata": {},
   "outputs": [],
   "source": [
    "print(utils.convert_to_latex(table.pivot(index=\"Setting\", columns=\"Model\", values=\"Uniques\")))"
   ]
  },
  {
   "cell_type": "code",
   "execution_count": null,
   "metadata": {},
   "outputs": [],
   "source": [
    "table = fixed_env_unique_non_dom_table[fixed_env_unique_non_dom_table[\"Setting\"].isin(utils.STANDARD_SAMPLING_SETTINGS.intersection(utils.LINEAR_SETTINGS.union(utils.THRESHOLD_SETTINGS).union(utils.DUAL_THRESHOLD_SETTINGS)))]\n",
    "table.pivot(index=\"Setting\", columns=\"Model\", values=\"Non-Dominated\").head()"
   ]
  },
  {
   "cell_type": "code",
   "execution_count": null,
   "metadata": {},
   "outputs": [],
   "source": [
    "print(utils.convert_to_latex(table.pivot(index=\"Setting\", columns=\"Model\", values=\"Non-Dominated\")))"
   ]
  },
  {
   "cell_type": "code",
   "execution_count": null,
   "metadata": {},
   "outputs": [],
   "source": [
    "table.pivot(index=\"Setting\", columns=\"Model\", values=\"Non-Dominated %\").head()"
   ]
  },
  {
   "cell_type": "code",
   "execution_count": null,
   "metadata": {},
   "outputs": [],
   "source": [
    "print(utils.convert_to_latex(table.pivot(index=\"Setting\", columns=\"Model\", values=\"Non-Dominated %\")))"
   ]
  },
  {
   "cell_type": "code",
   "execution_count": null,
   "metadata": {},
   "outputs": [],
   "source": [
    "table.pivot(index=\"Setting\", columns=\"Model\", values=\"Correct Non-Dominated\").head()"
   ]
  },
  {
   "cell_type": "code",
   "execution_count": null,
   "metadata": {},
   "outputs": [],
   "source": [
    "print(utils.convert_to_latex(table.pivot(index=\"Setting\", columns=\"Model\", values=\"Correct Non-Dominated\")))"
   ]
  },
  {
   "cell_type": "markdown",
   "metadata": {},
   "source": [
    "# Reward Vector Evaluation"
   ]
  },
  {
   "cell_type": "code",
   "execution_count": null,
   "metadata": {},
   "outputs": [],
   "source": [
    "reward_vector_unique_non_dom_table = utils.load_csv(\"tables/reward_vector_unique_non_dom_table.csv\")"
   ]
  },
  {
   "cell_type": "code",
   "execution_count": null,
   "metadata": {},
   "outputs": [],
   "source": [
    "table = reward_vector_unique_non_dom_table[reward_vector_unique_non_dom_table[\"Setting\"].isin(utils.STANDARD_SAMPLING_SETTINGS.intersection(utils.LINEAR_SETTINGS.union(utils.THRESHOLD_SETTINGS).union(utils.DUAL_THRESHOLD_SETTINGS)))]\n",
    "table.pivot(index=\"Setting\", columns=\"Model\", values=\"Uniques\").head()"
   ]
  },
  {
   "cell_type": "code",
   "execution_count": null,
   "metadata": {},
   "outputs": [],
   "source": [
    "print(utils.convert_to_latex(table.pivot(index=\"Setting\", columns=\"Model\", values=\"Uniques\")))"
   ]
  },
  {
   "cell_type": "code",
   "execution_count": null,
   "metadata": {},
   "outputs": [],
   "source": [
    "table.pivot(index=\"Setting\", columns=\"Model\", values=\"Non-Dominated\").head()"
   ]
  },
  {
   "cell_type": "code",
   "execution_count": null,
   "metadata": {},
   "outputs": [],
   "source": [
    "print(utils.convert_to_latex(table.pivot(index=\"Setting\", columns=\"Model\", values=\"Non-Dominated\")))"
   ]
  },
  {
   "cell_type": "code",
   "execution_count": null,
   "metadata": {},
   "outputs": [],
   "source": [
    "table.pivot(index=\"Setting\", columns=\"Model\", values=\"Non-Dominated %\").head()"
   ]
  },
  {
   "cell_type": "code",
   "execution_count": null,
   "metadata": {},
   "outputs": [],
   "source": [
    "print(utils.convert_to_latex(table.pivot(index=\"Setting\", columns=\"Model\", values=\"Non-Dominated %\")))"
   ]
  },
  {
   "cell_type": "markdown",
   "metadata": {},
   "source": [
    "# Agents' training plot"
   ]
  },
  {
   "cell_type": "code",
   "execution_count": null,
   "metadata": {},
   "outputs": [],
   "source": [
    "STOP"
   ]
  },
  {
   "cell_type": "code",
   "execution_count": null,
   "metadata": {},
   "outputs": [],
   "source": [
    "path = Path(\"C:/Users/maler/Federico/Università/Master/Tesi/experiments_results/\")\n",
    "\n",
    "ENVS = [\n",
    "    \"cum_linear_threshold_env\", \"cum_linear_dual_threshold_env\", \"cum_linear_env\", \"cum_target_env\",\n",
    "    \"cum_dual_threshold_env\", \"cum_threshold_env\", \"linear_dual_threshold_env\", \"linear_threshold_env\", \"linear_env\",\n",
    "    \"target_env\", \"dual_threshold_env\", \"threshold_env\"\n",
    "]\n",
    "MODELS = [\"64_64_model\", \"128_128_64_model\", \"256_128_128_64_64_model\", \"512_256_256_128_128_64_model\"]\n",
    "\n",
    "\n",
    "model = \"512_256_256_128_128_64_model\"\n",
    "env = \"dual_threshold_env\"\n",
    "\n",
    "utils.plot_training_history(path, model, env)"
   ]
  },
  {
   "cell_type": "markdown",
   "metadata": {},
   "source": [
    "# Computing Tables"
   ]
  },
  {
   "cell_type": "code",
   "execution_count": null,
   "metadata": {},
   "outputs": [],
   "source": [
    "utility_results_path = results_path.joinpath(\"utility_results/\")\n",
    "\n",
    "utility_results = utils.load_results(utility_results_path)\n",
    "utilities_table = utils.utilities_table(utility_results)\n",
    "utilities_table.to_csv(\"tables/utilities_table.csv\")"
   ]
  },
  {
   "cell_type": "code",
   "execution_count": null,
   "metadata": {},
   "outputs": [],
   "source": [
    "fixed_env_results_path = results_path.joinpath(\"fixed_env_results/\")\n",
    "\n",
    "fixed_env_results = utils.load_results(fixed_env_results_path)\n",
    "\n",
    "fixed_env_unique_non_dom_table = utils.uniques_non_dom_table(fixed_env_results)\n",
    "fixed_env_unique_non_dom_table.to_csv(\"tables/fixed_env_unique_non_dom_table.csv\")"
   ]
  },
  {
   "cell_type": "code",
   "execution_count": null,
   "metadata": {},
   "outputs": [],
   "source": [
    "reward_vector_results_path = results_path.joinpath(\"reduced_reward_vector/\")\n",
    "\n",
    "reward_vector_results = utils.load_results(reward_vector_results_path)\n",
    "print(\"Loaded\")\n",
    "reward_vector_unique_non_dom_table = utils.uniques_non_dom_table(reward_vector_results, correct_non_dom_flag=False)\n",
    "reward_vector_unique_non_dom_table.to_csv(\"tables/reward_vector_unique_non_dom_table.csv\")"
   ]
  },
  {
   "cell_type": "code",
   "execution_count": null,
   "metadata": {},
   "outputs": [],
   "source": [
    "intra_wds_table, inter_wds_table = utils.wds_tables(utility_results)\n",
    "intra_wds_table.pivot(index=\"Setting\", columns=\"Model\", values=\"WD\").head()"
   ]
  },
  {
   "cell_type": "code",
   "execution_count": null,
   "metadata": {},
   "outputs": [],
   "source": [
    "inter_wds_table.pivot(index=\"Setting\", columns=\"Model\", values=\"WD\").head()"
   ]
  }
 ],
 "metadata": {
  "kernelspec": {
   "display_name": "master_thesis",
   "language": "python",
   "name": "master_thesis"
  },
  "language_info": {
   "codemirror_mode": {
    "name": "ipython",
    "version": 3
   },
   "file_extension": ".py",
   "mimetype": "text/x-python",
   "name": "python",
   "nbconvert_exporter": "python",
   "pygments_lexer": "ipython3",
   "version": "3.9.5"
  }
 },
 "nbformat": 4,
 "nbformat_minor": 4
}