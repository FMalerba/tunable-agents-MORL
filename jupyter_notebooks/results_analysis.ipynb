{
 "cells": [
  {
   "cell_type": "code",
   "execution_count": null,
   "metadata": {},
   "outputs": [],
   "source": [
    "import utils\n",
    "import numpy as np\n",
    "import os\n",
    "import pandas as pd\n",
    "from pathlib import Path\n",
    "import matplotlib.pyplot as plt\n",
    "\n",
    "\n",
    "pd.set_option('display.expand_frame_repr', False)\n",
    "\n",
    "%matplotlib inline\n",
    "\n",
    "results_path = Path(\"C:/Users/maler/Federico/Università/Master/Tesi/evaluation_results/\")"
   ]
  },
  {
   "cell_type": "markdown",
   "metadata": {},
   "source": [
    "# Scalar Utilities"
   ]
  },
  {
   "cell_type": "code",
   "execution_count": null,
   "metadata": {},
   "outputs": [],
   "source": [
    "utilities_table = utils.load_csv(\"tables/utilities_table.csv\")"
   ]
  },
  {
   "cell_type": "code",
   "execution_count": null,
   "metadata": {},
   "outputs": [],
   "source": [
    "table = utilities_table[utilities_table[\"Setting\"].isin(utils.CONTINUOUS_SETTINGS.intersection(\n",
    "                                                                utils.LINEAR_SETTINGS\n",
    "                                                                .union(utils.THRESHOLD_SETTINGS)\n",
    "                                                                .union(utils.DUAL_THRESHOLD_SETTINGS)\n",
    "                                                                .union(utils.TARGET_SETTINGS)\n",
    "                                                                #.union(utils.LINEAR_THRESHOLD_SETTINGS)\n",
    "                                                                #.union(utils.LINEAR_DUAL_THRESHOLD_SETTINGS)\n",
    "                                                                )\n",
    "                                                       )]\n",
    "table.pivot(index=\"Setting\", columns=\"Model\", values=\"Utility\").head(8)"
   ]
  },
  {
   "cell_type": "code",
   "execution_count": null,
   "metadata": {},
   "outputs": [],
   "source": [
    "utils.convert_to_latex(table.pivot(index=\"Setting\", columns=\"Model\", values=\"Utility\"))"
   ]
  },
  {
   "cell_type": "markdown",
   "metadata": {},
   "source": [
    "# Fixed Environment Evaluation"
   ]
  },
  {
   "cell_type": "code",
   "execution_count": null,
   "metadata": {},
   "outputs": [],
   "source": [
    "fixed_env_unique_non_dom_table = utils.load_csv(\"tables/fixed_env_unique_non_dom_table.csv\")"
   ]
  },
  {
   "cell_type": "code",
   "execution_count": null,
   "metadata": {},
   "outputs": [],
   "source": [
    "table = fixed_env_unique_non_dom_table[fixed_env_unique_non_dom_table[\"Setting\"].isin(utils.STANDARD_SAMPLING_SETTINGS.intersection(\n",
    "                                                                utils.LINEAR_SETTINGS\n",
    "                                                                .union(utils.THRESHOLD_SETTINGS)\n",
    "                                                                .union(utils.DUAL_THRESHOLD_SETTINGS)\n",
    "                                                                .union(utils.TARGET_SETTINGS))\n",
    "                                                       )]"
   ]
  },
  {
   "cell_type": "code",
   "execution_count": null,
   "metadata": {},
   "outputs": [],
   "source": [
    "table.pivot(index=\"Setting\", columns=\"Model\", values=\"Uniques\").head()"
   ]
  },
  {
   "cell_type": "code",
   "execution_count": null,
   "metadata": {},
   "outputs": [],
   "source": [
    "utils.convert_to_latex(table.pivot(index=\"Setting\", columns=\"Model\", values=\"Uniques\"))"
   ]
  },
  {
   "cell_type": "code",
   "execution_count": null,
   "metadata": {},
   "outputs": [],
   "source": [
    "table.pivot(index=\"Setting\", columns=\"Model\", values=\"Non-Dominated\").head()"
   ]
  },
  {
   "cell_type": "code",
   "execution_count": null,
   "metadata": {},
   "outputs": [],
   "source": [
    "utils.convert_to_latex(table.pivot(index=\"Setting\", columns=\"Model\", values=\"Non-Dominated\"))"
   ]
  },
  {
   "cell_type": "code",
   "execution_count": null,
   "metadata": {},
   "outputs": [],
   "source": [
    "table.pivot(index=\"Setting\", columns=\"Model\", values=\"Non-Dominated %\").head()"
   ]
  },
  {
   "cell_type": "code",
   "execution_count": null,
   "metadata": {},
   "outputs": [],
   "source": [
    "utils.convert_to_latex(table.pivot(index=\"Setting\", columns=\"Model\", values=\"Non-Dominated %\"))"
   ]
  },
  {
   "cell_type": "code",
   "execution_count": null,
   "metadata": {},
   "outputs": [],
   "source": [
    "table.pivot(index=\"Setting\", columns=\"Model\", values=\"Correct Non-Dominated\").head()"
   ]
  },
  {
   "cell_type": "code",
   "execution_count": null,
   "metadata": {},
   "outputs": [],
   "source": [
    "utils.convert_to_latex(table.pivot(index=\"Setting\", columns=\"Model\", values=\"Correct Non-Dominated\"))"
   ]
  },
  {
   "cell_type": "code",
   "execution_count": null,
   "metadata": {},
   "outputs": [],
   "source": [
    "table.pivot(index=\"Setting\", columns=\"Model\", values=\"Overall Non-Dominated\").head()"
   ]
  },
  {
   "cell_type": "code",
   "execution_count": null,
   "metadata": {},
   "outputs": [],
   "source": [
    "utils.convert_to_latex(table.pivot(index=\"Setting\", columns=\"Model\", values=\"Overall Non-Dominated\"))"
   ]
  },
  {
   "cell_type": "markdown",
   "metadata": {},
   "source": [
    "# Reward Vector Evaluation"
   ]
  },
  {
   "cell_type": "code",
   "execution_count": null,
   "metadata": {},
   "outputs": [],
   "source": [
    "reward_vector_unique_non_dom_table = utils.load_csv(\"tables/reward_vector_unique_non_dom_table.csv\")"
   ]
  },
  {
   "cell_type": "code",
   "execution_count": null,
   "metadata": {},
   "outputs": [],
   "source": [
    "table = reward_vector_unique_non_dom_table[reward_vector_unique_non_dom_table[\"Setting\"].isin(utils.STANDARD_SAMPLING_SETTINGS.intersection(\n",
    "                                                                utils.LINEAR_SETTINGS\n",
    "                                                                .union(utils.THRESHOLD_SETTINGS)\n",
    "                                                                .union(utils.DUAL_THRESHOLD_SETTINGS)\n",
    "                                                                .union(utils.TARGET_SETTINGS))\n",
    "                                                       )]\n",
    "table.pivot(index=\"Setting\", columns=\"Model\", values=\"Uniques\").head()"
   ]
  },
  {
   "cell_type": "code",
   "execution_count": null,
   "metadata": {},
   "outputs": [],
   "source": [
    "utils.convert_to_latex(table.pivot(index=\"Setting\", columns=\"Model\", values=\"Uniques\"))"
   ]
  },
  {
   "cell_type": "code",
   "execution_count": null,
   "metadata": {},
   "outputs": [],
   "source": [
    "table.pivot(index=\"Setting\", columns=\"Model\", values=\"Non-Dominated\").head(10)"
   ]
  },
  {
   "cell_type": "code",
   "execution_count": null,
   "metadata": {},
   "outputs": [],
   "source": [
    "utils.convert_to_latex(table.pivot(index=\"Setting\", columns=\"Model\", values=\"Non-Dominated\"))"
   ]
  },
  {
   "cell_type": "markdown",
   "metadata": {},
   "source": [
    "# Agents' training plot"
   ]
  },
  {
   "cell_type": "code",
   "execution_count": null,
   "metadata": {},
   "outputs": [],
   "source": [
    "STOP"
   ]
  },
  {
   "cell_type": "code",
   "execution_count": null,
   "metadata": {},
   "outputs": [],
   "source": [
    "path = Path(\"C:/Users/maler/Federico/Università/Master/Tesi/experiments_results/\")\n",
    "\n",
    "ENVS = [\n",
    "    \"cum_linear_threshold_env\", \"cum_linear_dual_threshold_env\", \"cum_linear_env\", \"cum_target_env\",\n",
    "    \"cum_dual_threshold_env\", \"cum_threshold_env\", \"linear_dual_threshold_env\", \"linear_threshold_env\", \"linear_env\",\n",
    "    \"target_env\", \"dual_threshold_env\", \"threshold_env\"\n",
    "]\n",
    "MODELS = [\"64_64_model\", \"128_128_64_model\", \"256_128_128_64_64_model\", \"512_256_256_128_128_64_model\"]\n",
    "\n",
    "\n",
    "model = \"512_256_256_128_128_64_model\"\n",
    "env = \"dual_threshold_env\"\n",
    "\n",
    "utils.plot_training_history(path, model, env)"
   ]
  },
  {
   "cell_type": "markdown",
   "metadata": {},
   "source": [
    "# Computing Tables"
   ]
  },
  {
   "cell_type": "code",
   "execution_count": null,
   "metadata": {},
   "outputs": [],
   "source": [
    "utility_results_path = results_path.joinpath(\"utility_results/\")\n",
    "\n",
    "utilities_table = utils.utilities_table(utility_results_path)\n",
    "utilities_table.to_csv(\"tables/utilities_table.csv\")"
   ]
  },
  {
   "cell_type": "code",
   "execution_count": null,
   "metadata": {},
   "outputs": [],
   "source": [
    "fixed_env_results_path = results_path.joinpath(\"fixed_env_results/\")\n",
    "\n",
    "fixed_env_unique_non_dom_table = utils.uniques_non_dom_table(fixed_env_results_path, fixed_env_flag=True)\n",
    "fixed_env_unique_non_dom_table.to_csv(\"tables/fixed_env_unique_non_dom_table.csv\")"
   ]
  },
  {
   "cell_type": "code",
   "execution_count": null,
   "metadata": {},
   "outputs": [],
   "source": [
    "reward_vector_results_path = results_path.joinpath(\"reduced_reward_vector/\")\n",
    "\n",
    "reward_vector_unique_non_dom_table = utils.uniques_non_dom_table(reward_vector_results_path, fixed_env_flag=False)\n",
    "reward_vector_unique_non_dom_table.to_csv(\"tables/reward_vector_unique_non_dom_table.csv\")"
   ]
  },
  {
   "cell_type": "code",
   "execution_count": null,
   "metadata": {},
   "outputs": [],
   "source": [
    "fixed_env_results_path = results_path.joinpath(\"fixed_env_results/\")\n",
    "\n",
    "exp_ids = utils.generate_experiments_tuple(fixed_env_results_path)\n",
    "for exp_id in exp_ids:\n",
    "    env, model = exp_id[:2]\n",
    "    \n",
    "    try:\n",
    "        l = [np.mean(np.all(result == [1, 0, 0, 0, 0, 0], axis=1)) for result in utils.load_experiment_results(exp_id)]\n",
    "        if np.any(l):\n",
    "            print(env, model, l)\n",
    "    except Exception:\n",
    "        print(env, model)"
   ]
  },
  {
   "cell_type": "code",
   "execution_count": null,
   "metadata": {},
   "outputs": [],
   "source": [
    "import os\n",
    "\n",
    "os._exit(00)"
   ]
  },
  {
   "cell_type": "code",
   "execution_count": null,
   "metadata": {},
   "outputs": [],
   "source": [
    "intra_wds_table, inter_wds_table = utils.wds_tables(utility_results)\n",
    "intra_wds_table.pivot(index=\"Setting\", columns=\"Model\", values=\"WD\").head()"
   ]
  },
  {
   "cell_type": "code",
   "execution_count": null,
   "metadata": {},
   "outputs": [],
   "source": [
    "inter_wds_table.pivot(index=\"Setting\", columns=\"Model\", values=\"WD\").head()"
   ]
  }
 ],
 "metadata": {
  "kernelspec": {
   "name": "python3",
   "display_name": "Python 3.9.5 64-bit ('master_thesis_venv': venv)"
  },
  "language_info": {
   "codemirror_mode": {
    "name": "ipython",
    "version": 3
   },
   "file_extension": ".py",
   "mimetype": "text/x-python",
   "name": "python",
   "nbconvert_exporter": "python",
   "pygments_lexer": "ipython3",
   "version": "3.9.5"
  },
  "interpreter": {
   "hash": "69940e41fd4521c6999599ef324466e360d102af3e1c5feddeaab1a1f5943ae7"
  }
 },
 "nbformat": 4,
 "nbformat_minor": 4
}