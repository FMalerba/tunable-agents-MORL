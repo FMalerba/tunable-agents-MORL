{
 "cells": [
  {
   "cell_type": "code",
   "execution_count": 1,
   "metadata": {},
   "outputs": [],
   "source": [
    "from tunable_agents import utility, agent\n",
    "import utils\n",
    "import gin\n",
    "import numpy as np\n",
    "import os\n",
    "import tensorflow as tf\n",
    "from tensorflow import keras\n",
    "from tunable_agents.environments.gathering_env import gathering_env\n",
    "import matplotlib.pyplot as plt\n",
    "from scipy.stats import wasserstein_distance\n",
    "\n",
    "%matplotlib inline"
   ]
  },
  {
   "cell_type": "code",
   "execution_count": null,
   "metadata": {},
   "outputs": [],
   "source": [
    "path = \"results/reward_vector/\"\n",
    "for file in os.listdir(path):\n",
    "    if os.path.isfile(path + file):\n",
    "        shape = np.load(path + file, allow_pickle=True).shape\n",
    "        print(f\"{file:<60}     {shape}\")"
   ]
  },
  {
   "cell_type": "markdown",
   "metadata": {},
   "source": [
    "# Scalar Utilities"
   ]
  },
  {
   "cell_type": "code",
   "execution_count": 2,
   "metadata": {},
   "outputs": [],
   "source": [
    "path = \"results/utilities/\"\n",
    "\n",
    "results = utils.load_results(path)\n",
    "keys = sorted(results.keys())"
   ]
  },
  {
   "cell_type": "code",
   "execution_count": 3,
   "metadata": {},
   "outputs": [
    {
     "output_type": "stream",
     "name": "stdout",
     "text": [
      "cum_rewards_env-128_128_64_model             0.987\ncum_rewards_env-64_64_model                  1.327\ncum_threshold_env-128_128_64_model           1.4577\ncum_threshold_env-64_64_model                1.9679\nreplication_env-128_128_64_model             0.7244\nreplication_env-64_64_model                  1.2287\nthreshold_env-128_128_64_model               2.0162\nthreshold_env-64_64_model                    4.303\n"
     ]
    }
   ],
   "source": [
    "intra_wds = dict()\n",
    "for key in keys:\n",
    "    intra_wds[key] = [wasserstein_distance(results[key][i], results[key][j])\n",
    "                      for i in range(len(results[key])) for j in range(i+1, len(results[key]))]\n",
    "\n",
    "inter_wds = dict()\n",
    "for i in range(len(keys)):\n",
    "    for j in range(i+1, len(keys)):\n",
    "        key_1, key_2 = keys[i], keys[j]\n",
    "        if key_1.split(\"-\")[0] == key_2.split(\"-\")[0]:\n",
    "            inter_wds[key_1 + \"--\" + key_2] = [wasserstein_distance(result_1, result_2)\n",
    "                                            for result_1 in results[key_1] for result_2 in results[key_2]]\n",
    "\n",
    "for key in keys:\n",
    "    mean_WD = np.round(np.mean(intra_wds[key]), 4)\n",
    "    print(f\"{key:<40}     {mean_WD}\")"
   ]
  },
  {
   "cell_type": "code",
   "execution_count": 4,
   "metadata": {},
   "outputs": [
    {
     "output_type": "stream",
     "name": "stdout",
     "text": [
      "cum_rewards_env-128_128_64_model--cum_rewards_env-64_64_model              3.1498\ncum_threshold_env-128_128_64_model--cum_threshold_env-64_64_model          1.6634\nreplication_env-128_128_64_model--replication_env-64_64_model              2.9361\nthreshold_env-128_128_64_model--threshold_env-64_64_model                  5.0472\n"
     ]
    }
   ],
   "source": [
    "for key in inter_wds.keys():\n",
    "    mean_WD = np.round(np.mean(inter_wds[key]), 4)\n",
    "    print(f\"{key:<70}     {mean_WD}\")"
   ]
  },
  {
   "cell_type": "code",
   "execution_count": 5,
   "metadata": {},
   "outputs": [
    {
     "output_type": "stream",
     "name": "stdout",
     "text": [
      "            Model                             Mean          Standard Error\ncum_rewards_env-128_128_64_model             14.9522            0.2754                        \ncum_rewards_env-64_64_model                  11.8223            0.4006                        \ncum_threshold_env-128_128_64_model           8.4736             0.4169                        \ncum_threshold_env-64_64_model                7.5494             0.6252                        \nreplication_env-128_128_64_model             14.3529            0.1786                        \nreplication_env-64_64_model                  11.436             0.3531                        \nthreshold_env-128_128_64_model               8.2447             0.642                         \nthreshold_env-64_64_model                    3.4226             1.3389                        \n"
     ]
    }
   ],
   "source": [
    "print(\"{:^30}            {:^12}      {:^10}\".format(\"Model\", \"Mean\", \"Standard Error\"))\n",
    "for key in keys:\n",
    "    res = [np.mean(result) for result in results[key]]\n",
    "    mean = np.round(np.mean(res), 4)\n",
    "    std_err = np.round(np.std(res)/np.sqrt(len(res)), 4)\n",
    "    print(f\"{key:<40}     {str(mean):<12}       {str(std_err):<30}\")"
   ]
  },
  {
   "cell_type": "code",
   "execution_count": 6,
   "metadata": {},
   "outputs": [
    {
     "output_type": "stream",
     "name": "stdout",
     "text": [
      "cum_rewards_env-128_128_64_model         [13.910725, 15.17225, 15.2183, 14.432275, 14.9077, 16.07195]\ncum_rewards_env-64_64_model              [11.6996, 12.63365, 11.8517, 10.0577, 13.19475, 11.496625]\ncum_threshold_env-128_128_64_model       [8.889875, 7.914425, 7.134875, 9.937125, 9.4408, 7.524575]\ncum_threshold_env-64_64_model            [8.764525, 7.88765, 8.67945, 8.734775, 6.6912, 4.539075]\nreplication_env-128_128_64_model         [13.912125, 14.477425, 13.91235, 14.568975, 15.14865, 14.0978]\nreplication_env-64_64_model              [12.474725, 10.209075, 10.3794, 11.6756, 11.603375, 12.273975]\nthreshold_env-128_128_64_model           [5.01925, 7.8694, 9.491775, 9.701975, 9.0186, 8.367375]\nthreshold_env-64_64_model                [-2.852275, 4.206975, 1.9436, 6.92235, 3.726675, 6.588025]\n"
     ]
    }
   ],
   "source": [
    "for key in keys:\n",
    "    result_list = [np.mean(result) for result in results[key]]\n",
    "    print(f\"{key:<40} {result_list}\")"
   ]
  },
  {
   "source": [
    "# Fixed Environment Evaluation"
   ],
   "cell_type": "markdown",
   "metadata": {}
  },
  {
   "cell_type": "code",
   "execution_count": 6,
   "metadata": {},
   "outputs": [],
   "source": [
    "path = \"results/fixed_env_results/\"\n",
    "\n",
    "results = utils.load_results(path)\n",
    "keys = sorted(results.keys())"
   ]
  },
  {
   "cell_type": "code",
   "execution_count": 7,
   "metadata": {},
   "outputs": [
    {
     "output_type": "stream",
     "name": "stdout",
     "text": [
      "cum_rewards_env-128_128_64_model                             [183, 129, 99, 150, 148, 128]            139.5\n",
      "cum_rewards_env-256_128_128_64_64_model                      [128, 158, 169, 130, 159, 176]           153.3\n",
      "cum_rewards_env-64_64_model                                  [158, 106, 133, 140, 67, 139]            123.8\n",
      "cum_rewards_env-more_utils_128_128_64_model                  [293, 192, 154, 267, 231, 196]           222.2\n",
      "cum_rewards_env-more_utils_256_128_128_64_64_model           [235, 268, 246, 190, 308, 304]           258.5\n",
      "cum_rewards_env-more_utils_64_64_model                       [246, 174, 195, 219, 111, 211]           192.7\n",
      "cum_threshold_env-128_128_64_model                           [306, 205, 286, 236, 192, 183]           234.7\n",
      "cum_threshold_env-64_64_model                                [154, 216, 277, 111, 160, 247]           194.2\n",
      "replication_env-128_128_64_model                             [111, 116, 59, 221, 106, 169]            130.3\n",
      "replication_env-256_128_128_64_64_model                      [136, 126, 118, 261, 147, 129]           152.8\n",
      "replication_env-64_64_model                                  [97, 117, 118, 132, 103, 58]             104.2\n",
      "replication_env-more_utils_128_128_64_model                  [147, 178, 89, 393, 162, 224]            198.8\n",
      "replication_env-more_utils_256_128_128_64_64_model           [200, 193, 177, 419, 245, 193]           237.8\n",
      "replication_env-more_utils_64_64_model                       [134, 152, 156, 171, 152, 82]            141.2\n",
      "threshold_env-128_128_64_model                               [460, 182, 430, 161, 237, 221]           281.8\n",
      "threshold_env-256_128_128_64_64_model                        [479, 318, 309, 411, 457]                394.8\n",
      "threshold_env-64_64_model                                    [88, 143, 146, 186, 165, 197]            154.2\n"
     ]
    }
   ],
   "source": [
    "for key in keys:\n",
    "    uniques = [np.unique(result, axis=0).shape[0] for result in results[key]]\n",
    "    mean_uniques = np.round(np.mean(uniques), 1)\n",
    "    print(f\"{key:<60} {str(uniques):<40} {mean_uniques}\")"
   ]
  },
  {
   "source": [
    "# Stale Analysis"
   ],
   "cell_type": "markdown",
   "metadata": {}
  },
  {
   "cell_type": "code",
   "execution_count": null,
   "metadata": {},
   "outputs": [],
   "source": [
    "path = \"results/legacy_results/\"\n",
    "\n",
    "results_files = {\"david\": [\"david_200221.npy\", \"david_210221.npy\", \"david_210221_2.npy\"],\n",
    "                 \"my_env\": [\"my_210220.npy\", \"my_210221.npy\", \"my_210221_2.npy\"],\n",
    "                 \"new\": [\"new_gath_repl_1.npy\", \"new_gath_repl_2.npy\", \"new_gath_repl_3.npy\"],\n",
    "                 \"tfa\": [\"gathering_replication_1.npy\", \"gathering_replication_2.npy\", \"gathering_replication_3.npy\",\n",
    "                         \"gathering_replication_4.npy\"]\n",
    "\n",
    "\n",
    "keys = sorted(results_files.keys())\n",
    "results = dict()\n",
    "for key in keys:\n",
    "    results[key] = [np.load(path + file, allow_pickle=True) for file in results_files[key]]\n",
    "\n",
    "if True:\n",
    "    for key in keys:\n",
    "        results[key] = [result[result != -1] for result in results[key]]\n"
   ]
  },
  {
   "cell_type": "code",
   "execution_count": null,
   "metadata": {},
   "outputs": [],
   "source": [
    "'''\n",
    "plt.figure(figsize=(15, 12))\n",
    "i = 1\n",
    "for result in results[\"my_env\"] + results[\"david\"] + results[\"tfa\"][:-1]:\n",
    "    plt.subplot(3, 3, i)\n",
    "    plt.title(f\"Number of sampled episodes: {result.shape[0]}\")\n",
    "    plt.hist(result, bins=200, density=True)\n",
    "    i += 1\n",
    "\n",
    "plt.tight_layout()\n",
    "plt.show()\n",
    "'''\n",
    "zz =0"
   ]
  }
 ],
 "metadata": {
  "kernelspec": {
   "display_name": "master_thesis",
   "language": "python",
   "name": "master_thesis"
  },
  "language_info": {
   "codemirror_mode": {
    "name": "ipython",
    "version": 3
   },
   "file_extension": ".py",
   "mimetype": "text/x-python",
   "name": "python",
   "nbconvert_exporter": "python",
   "pygments_lexer": "ipython3",
   "version": "3.8.7-final"
  }
 },
 "nbformat": 4,
 "nbformat_minor": 2
}